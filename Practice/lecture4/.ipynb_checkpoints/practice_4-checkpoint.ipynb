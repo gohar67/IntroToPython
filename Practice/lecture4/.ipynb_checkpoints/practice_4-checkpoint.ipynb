{
 "cells": [
  {
   "cell_type": "code",
   "execution_count": 6,
   "metadata": {},
   "outputs": [
    {
     "name": "stdout",
     "output_type": "stream",
     "text": [
      "write a number n1: 15\n",
      "write a number n2: 18\n",
      "The number 18 is the greatest.\n"
     ]
    }
   ],
   "source": [
    "#1\n",
    "n1 = int(input('write a number n1: '))\n",
    "n2 = int(input('write a number n2: '))\n",
    "if n1>n2:\n",
    "    print('The number %d is the greatest.' % n1)\n",
    "else:\n",
    "    print('The number %d is the greatest.' % n2)"
   ]
  },
  {
   "cell_type": "code",
   "execution_count": 4,
   "metadata": {},
   "outputs": [
    {
     "name": "stdout",
     "output_type": "stream",
     "text": [
      "abcd is rectangle\n"
     ]
    }
   ],
   "source": [
    "#2\n",
    "a = 15\n",
    "b = 16\n",
    "if a == b:\n",
    "    print('abcd is square')\n",
    "else:\n",
    "    print('abcd is rectangle')"
   ]
  },
  {
   "cell_type": "code",
   "execution_count": 21,
   "metadata": {},
   "outputs": [
    {
     "name": "stdout",
     "output_type": "stream",
     "text": [
      "Please enter a different password.\n"
     ]
    }
   ],
   "source": [
    "#3\n",
    "name = 'Hovhannes'\n",
    "age = 19\n",
    "password = 'Hov271895*'\n",
    "if name == \"Batman\":\n",
    "    print('Welcome Mr. Batman!')\n",
    "else:\n",
    "    if age <16:\n",
    "        print('Dear %s, you are too young to register' % name)\n",
    "    if ('*' not in password) or ('&' not in password):\n",
    "        print('Please enter a different password.')"
   ]
  },
  {
   "cell_type": "code",
   "execution_count": 34,
   "metadata": {},
   "outputs": [
    {
     "name": "stdout",
     "output_type": "stream",
     "text": [
      "input a number: 15\n",
      "{'name': 'Armen', 'age': 15, 'grades': [10, 8, 8, 4, 6, 7], 'weight': 15}\n"
     ]
    }
   ],
   "source": [
    "#4\n",
    "d = {'name': 'Armen', 'age': 15, 'grades': [10, 8,8, 4, 6, 7]}\n",
    "if 'weight' not in d:\n",
    "    x = int(input('input a number: '))\n",
    "    d['weight']=x\n",
    "    print(d)\n",
    "else:\n",
    "    print(d['weight'])\n"
   ]
  },
  {
   "cell_type": "code",
   "execution_count": 12,
   "metadata": {},
   "outputs": [
    {
     "name": "stdout",
     "output_type": "stream",
     "text": [
      "1\n",
      "3\n",
      "5\n",
      "7\n",
      "9\n",
      "11\n",
      "13\n",
      "15\n",
      "17\n",
      "19\n",
      "21\n",
      "23\n",
      "25\n",
      "27\n",
      "29\n",
      "31\n",
      "33\n",
      "35\n",
      "37\n",
      "39\n",
      "41\n",
      "43\n",
      "45\n",
      "47\n",
      "49\n",
      "51\n",
      "53\n",
      "55\n",
      "57\n",
      "59\n",
      "61\n",
      "63\n",
      "65\n",
      "67\n",
      "69\n",
      "71\n",
      "73\n",
      "75\n",
      "77\n",
      "79\n",
      "81\n",
      "83\n",
      "85\n",
      "87\n",
      "89\n",
      "91\n",
      "93\n",
      "95\n",
      "97\n",
      "99\n"
     ]
    }
   ],
   "source": [
    "#5\n",
    "for num in range(101):\n",
    "    if num%2 !=0:\n",
    "        print(num)"
   ]
  },
  {
   "cell_type": "code",
   "execution_count": 1,
   "metadata": {},
   "outputs": [
    {
     "name": "stdout",
     "output_type": "stream",
     "text": [
      "1\n",
      "3\n",
      "5\n",
      "7\n",
      "9\n",
      "11\n",
      "13\n",
      "15\n",
      "17\n",
      "19\n",
      "21\n",
      "23\n",
      "25\n",
      "27\n",
      "29\n",
      "31\n",
      "33\n",
      "35\n",
      "37\n",
      "39\n",
      "41\n",
      "43\n",
      "45\n",
      "47\n",
      "49\n",
      "51\n",
      "53\n",
      "55\n",
      "57\n",
      "59\n",
      "61\n",
      "63\n",
      "65\n",
      "67\n",
      "69\n",
      "71\n",
      "73\n",
      "75\n",
      "77\n",
      "79\n",
      "81\n",
      "83\n",
      "85\n",
      "87\n",
      "89\n",
      "91\n",
      "93\n",
      "95\n",
      "97\n",
      "99\n"
     ]
    }
   ],
   "source": [
    "#5\n",
    "x = 0\n",
    "while x <100:\n",
    "    if x % 2 !=0:\n",
    "        print(x)\n",
    "    x+=1"
   ]
  },
  {
   "cell_type": "code",
   "execution_count": 15,
   "metadata": {},
   "outputs": [
    {
     "name": "stdout",
     "output_type": "stream",
     "text": [
      "0\n",
      "1\n",
      "3\n",
      "5\n",
      "6\n"
     ]
    }
   ],
   "source": [
    "#6\n",
    "for x in range(7):\n",
    "    if x == 2 or x ==4:\n",
    "        continue\n",
    "    print(x)"
   ]
  },
  {
   "cell_type": "code",
   "execution_count": 14,
   "metadata": {},
   "outputs": [
    {
     "name": "stdout",
     "output_type": "stream",
     "text": [
      "number = 1\n",
      "number = 2\n",
      "number = 3\n",
      "number = 4\n",
      "number = 5\n",
      "number = 6\n",
      "number = 7\n",
      "number = 8\n",
      "number = 9\n",
      "number = 10\n",
      "number = 11\n",
      "number = 12\n",
      "number = 13\n",
      "number = 14\n",
      "number = 15\n"
     ]
    }
   ],
   "source": [
    "#7\n",
    "for num in range(1,21):\n",
    "    print('number =', num)\n",
    "    if num%3 ==0 and num%5 ==0:\n",
    "        break"
   ]
  },
  {
   "cell_type": "code",
   "execution_count": 9,
   "metadata": {},
   "outputs": [
    {
     "name": "stdout",
     "output_type": "stream",
     "text": [
      "x= 1\n",
      "x= 2\n",
      "x= 3\n",
      "x= 4\n",
      "x= 5\n",
      "x= 6\n",
      "x= 7\n",
      "x= 8\n",
      "x= 9\n",
      "x= 10\n",
      "x= 11\n",
      "x= 12\n",
      "x= 13\n",
      "x= 14\n",
      "x= 15\n"
     ]
    }
   ],
   "source": [
    "#7\n",
    "x = 0\n",
    "while x<21:\n",
    "    x+=1\n",
    "    print('x=', x)\n",
    "    if x%15 ==0:\n",
    "        break"
   ]
  },
  {
   "cell_type": "code",
   "execution_count": 17,
   "metadata": {},
   "outputs": [
    {
     "name": "stdout",
     "output_type": "stream",
     "text": [
      "5\n",
      "7\n",
      "-7\n",
      "abc\n",
      "2\n",
      "4\n",
      "True\n",
      "3\n"
     ]
    }
   ],
   "source": [
    "#8\n",
    "list1 = [5, 7, -7, 'abc', 2, 4, True, 3, 4, 6, 7, 7]\n",
    "for num in list1:\n",
    "    print(num)\n",
    "    if num == 3:\n",
    "        break\n",
    "   "
   ]
  },
  {
   "cell_type": "code",
   "execution_count": null,
   "metadata": {},
   "outputs": [],
   "source": [
    "#9\n",
    "correct_num = 5\n",
    "guess = int(input())\n",
    "while  guess != correct_num:\n",
    "        guess = int(input('say something: '))\n",
    "print('That was a good guess!')"
   ]
  },
  {
   "cell_type": "code",
   "execution_count": null,
   "metadata": {},
   "outputs": [],
   "source": [
    "#9\n",
    "correct_num = 5\n",
    "for x in range(11):\n",
    "    guess = int(input('print a number: '))\n",
    "    if guess == correct_num:\n",
    "        print('That was a good guess!')\n",
    "        break"
   ]
  },
  {
   "cell_type": "code",
   "execution_count": 7,
   "metadata": {},
   "outputs": [
    {
     "name": "stdout",
     "output_type": "stream",
     "text": [
      "[7, 8, 120, 25, 44, 20, 27]\n",
      "[7, 25, 27]\n"
     ]
    }
   ],
   "source": [
    "#10\n",
    "list1=[7,8, 120, 25, 44, 20, 27]\n",
    "print(list1)\n",
    "list1 =[x for x in list1 if x%2 !=0]\n",
    "print(list1)"
   ]
  },
  {
   "cell_type": "code",
   "execution_count": 13,
   "metadata": {},
   "outputs": [
    {
     "name": "stdout",
     "output_type": "stream",
     "text": [
      "[1, 4, 9, 16, 25, 36, 49, 64, 81, 100, 121, 144, 169, 196, 225, 256, 289, 324, 361, 400, 441, 484, 529, 576, 625, 676, 729, 784, 841, 900, 961, 1024, 1089, 1156, 1225, 1296, 1369, 1444, 1521, 1600, 1681, 1764, 1849, 1936, 2025, 2116, 2209, 2304, 2401, 2500]\n"
     ]
    }
   ],
   "source": [
    "#11\n",
    "list3 = [x**2 for x in range(1,51)]\n",
    "print(list3)\n"
   ]
  },
  {
   "cell_type": "code",
   "execution_count": 14,
   "metadata": {},
   "outputs": [
    {
     "name": "stdout",
     "output_type": "stream",
     "text": [
      "[25, 225, 36]\n"
     ]
    }
   ],
   "source": [
    "#12\n",
    "list1 = [1,25,18,225,36,17,1,8]\n",
    "list2 = [x for x in list1 if x>20]\n",
    "print(list2)"
   ]
  },
  {
   "cell_type": "code",
   "execution_count": 8,
   "metadata": {},
   "outputs": [
    {
     "name": "stdout",
     "output_type": "stream",
     "text": [
      "write anything: olala\n",
      "['o', 'l', 'a', 'l', 'a']\n"
     ]
    }
   ],
   "source": [
    "str1 = input('write anything: ')\n",
    "l1=[x for x in str1]\n",
    "    \n",
    "print(l1)"
   ]
  },
  {
   "cell_type": "code",
   "execution_count": 5,
   "metadata": {},
   "outputs": [
    {
     "data": {
      "text/plain": [
       "['aba', '1221']"
      ]
     },
     "execution_count": 5,
     "metadata": {},
     "output_type": "execute_result"
    }
   ],
   "source": [
    "list1 = ['a', 'abc', 'xyz', 's', 'aba','1221']\n",
    "list2 = [x for x in list1 if len(x)>2 if x[0]==x[-1]]\n",
    "print(list2)"
   ]
  },
  {
   "cell_type": "code",
   "execution_count": null,
   "metadata": {},
   "outputs": [],
   "source": []
  }
 ],
 "metadata": {
  "kernelspec": {
   "display_name": "Python 3",
   "language": "python",
   "name": "python3"
  },
  "language_info": {
   "codemirror_mode": {
    "name": "ipython",
    "version": 3
   },
   "file_extension": ".py",
   "mimetype": "text/x-python",
   "name": "python",
   "nbconvert_exporter": "python",
   "pygments_lexer": "ipython3",
   "version": "3.7.4"
  }
 },
 "nbformat": 4,
 "nbformat_minor": 2
}
