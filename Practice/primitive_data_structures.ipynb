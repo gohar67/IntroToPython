{
 "cells": [
  {
   "cell_type": "code",
   "execution_count": 1,
   "metadata": {},
   "outputs": [
    {
     "name": "stdout",
     "output_type": "stream",
     "text": [
      "30\n"
     ]
    }
   ],
   "source": [
    "x = - 5\n",
    "y = 6\n",
    "print(abs(x*y))"
   ]
  },
  {
   "cell_type": "code",
   "execution_count": 2,
   "metadata": {},
   "outputs": [
    {
     "name": "stdout",
     "output_type": "stream",
     "text": [
      "125\n"
     ]
    }
   ],
   "source": [
    "#pow equals a ** 2 or 3 or ... n\n",
    "a = 5\n",
    "print(pow(a, 3))"
   ]
  },
  {
   "cell_type": "code",
   "execution_count": 3,
   "metadata": {},
   "outputs": [
    {
     "name": "stdout",
     "output_type": "stream",
     "text": [
      "0\n"
     ]
    }
   ],
   "source": [
    "print(min(1, 2, 3, 5, 0))"
   ]
  },
  {
   "cell_type": "code",
   "execution_count": 7,
   "metadata": {},
   "outputs": [
    {
     "name": "stdout",
     "output_type": "stream",
     "text": [
      "2\n",
      "58\n"
     ]
    }
   ],
   "source": [
    "x = [2, 5, 11, 58, 14, 25]\n",
    "print(min(x))\n",
    "min(x)\n",
    "max(x)\n",
    "print(max(x))"
   ]
  },
  {
   "cell_type": "code",
   "execution_count": 9,
   "metadata": {},
   "outputs": [
    {
     "name": "stdout",
     "output_type": "stream",
     "text": [
      "105\n",
      "105.27\n",
      "105.2679\n"
     ]
    }
   ],
   "source": [
    "x = 105.26786\n",
    "print(round(x))\n",
    "print(round(x, 2))\n",
    "print(round(x, 4))"
   ]
  },
  {
   "cell_type": "code",
   "execution_count": 10,
   "metadata": {},
   "outputs": [
    {
     "name": "stdout",
     "output_type": "stream",
     "text": [
      "3\n",
      "2\n"
     ]
    }
   ],
   "source": [
    "import math\n",
    "x = 2.2\n",
    "print(math.ceil(x))\n",
    "print(math.floor(x))"
   ]
  },
  {
   "cell_type": "code",
   "execution_count": 11,
   "metadata": {},
   "outputs": [
    {
     "name": "stdout",
     "output_type": "stream",
     "text": [
      "4.0\n",
      "4\n"
     ]
    }
   ],
   "source": [
    "x = 16\n",
    "print(math.sqrt(x))\n",
    "print(int(math.sqrt(x)))"
   ]
  },
  {
   "cell_type": "code",
   "execution_count": 20,
   "metadata": {},
   "outputs": [
    {
     "name": "stdout",
     "output_type": "stream",
     "text": [
      "2.718281828459045\n",
      "2.718281828459045\n",
      "7.38905609893065\n"
     ]
    },
    {
     "data": {
      "text/plain": [
       "3.141592653589793"
      ]
     },
     "execution_count": 20,
     "metadata": {},
     "output_type": "execute_result"
    }
   ],
   "source": [
    "print(math.exp(1))\n",
    "print(math.e)\n",
    "print(math.exp(2))\n",
    "math.pi"
   ]
  },
  {
   "cell_type": "code",
   "execution_count": 40,
   "metadata": {},
   "outputs": [
    {
     "name": "stdout",
     "output_type": "stream",
     "text": [
      "hello! my name is Gohar!!! Nice' to meet you\n",
      "\"hello! my name is Gohar!!! Nice to meet you\"\n",
      "doesn't matter\n",
      "Hello,\n",
      "My name is Gohar.\n",
      "Nice to meet you\n",
      "Hello, My name is Gohar.\n",
      "Nice to meet you\n"
     ]
    }
   ],
   "source": [
    "#string\n",
    "\n",
    "print(\"hello! my name is Gohar!!! Nice' to meet you\")\n",
    "print('\"hello! my name is Gohar!!! Nice to meet you\"')\n",
    "print('doesn\\'t matter')\n",
    "print(\"\"\"Hello,\n",
    "My name is Gohar.\n",
    "Nice to meet you\"\"\")\n",
    "print(\"\"\"Hello, \\\n",
    "My name is Gohar.\n",
    "Nice to meet you\"\"\")"
   ]
  },
  {
   "cell_type": "code",
   "execution_count": 39,
   "metadata": {},
   "outputs": [
    {
     "name": "stdout",
     "output_type": "stream",
     "text": [
      "doesn\\'t matter\n",
      "the world is wonderful \n",
      " full of energy\n",
      "love of my live don't \blame me\n",
      "love of my live don't \\blame me\n",
      "love of my live don\\'t \\\\blame me\n"
     ]
    }
   ],
   "source": [
    "print(r'doesn\\'t matter')\n",
    "print(\"the world is wonderful \\n full of energy\")\n",
    "print('love of my live don\\'t \\blame me')\n",
    "print('love of my live don\\'t \\\\blame me')\n",
    "print(r'love of my live don\\'t \\\\blame me')"
   ]
  },
  {
   "cell_type": "code",
   "execution_count": 51,
   "metadata": {},
   "outputs": [
    {
     "name": "stdout",
     "output_type": "stream",
     "text": [
      "d\n",
      "djdhkkllsdghsjue\n",
      "djdhkk\n",
      "bnddk\n",
      "e\n",
      "kllsdghsjue\n",
      "21\n",
      "eujshgdsllkkhdjdsncba\n"
     ]
    }
   ],
   "source": [
    "a = ('abcnsdjdhkkllsdghsjue')\n",
    "print(a[5])\n",
    "print(a[5:])\n",
    "print(a[5:11])\n",
    "print(a[1:11:2])\n",
    "print(a[-1])\n",
    "print(a[-11:])\n",
    "print(len(a))\n",
    "print(a[::-1])"
   ]
  },
  {
   "cell_type": "code",
   "execution_count": 52,
   "metadata": {},
   "outputs": [
    {
     "name": "stdout",
     "output_type": "stream",
     "text": [
      "[10, 9, 8, 7, 6, 5, 4, 3, 2, 1]\n",
      "10\n"
     ]
    }
   ],
   "source": [
    "z = [1, 2, 3, 4, 5, 6, 7, 8, 9, 10]\n",
    "print(z[::-1])\n",
    "print(len(z))"
   ]
  },
  {
   "cell_type": "code",
   "execution_count": 54,
   "metadata": {},
   "outputs": [
    {
     "name": "stdout",
     "output_type": "stream",
     "text": [
      "agAnacondaAnacondaAnacondaAnacondaAnaconda\n"
     ]
    }
   ],
   "source": [
    "word = \"Anaconda\"\n",
    "print('ag' + word[0:]*5)"
   ]
  },
  {
   "cell_type": "code",
   "execution_count": 62,
   "metadata": {},
   "outputs": [
    {
     "name": "stdout",
     "output_type": "stream",
     "text": [
      "my dreams always come true!\n",
      "MY DREAMS ALWAYS COME TRUE!\n",
      "Y DRms always come true!\n"
     ]
    }
   ],
   "source": [
    "g = 'My dreams always come true!'\n",
    "print(g.lower())\n",
    "print(g.upper())\n",
    "g1 = g[1:5].upper() + g[7:]\n",
    "print(g1)"
   ]
  },
  {
   "cell_type": "code",
   "execution_count": 68,
   "metadata": {},
   "outputs": [
    {
     "name": "stdout",
     "output_type": "stream",
     "text": [
      "0\n",
      "Gohar name is Gohar name\n"
     ]
    }
   ],
   "source": [
    "#find\n",
    "#replace\n",
    "x = \"My name is My name\"\n",
    "x1 = x.lower()\n",
    "print(x1.find(\"my\"))\n",
    "print(x1.replace(\"my\", \"Gohar\"))"
   ]
  },
  {
   "cell_type": "code",
   "execution_count": 73,
   "metadata": {},
   "outputs": [
    {
     "name": "stdout",
     "output_type": "stream",
     "text": [
      "My name is Gohar Aghajanyan. I'm 27 years old.\n"
     ]
    }
   ],
   "source": [
    "#string input\n",
    "name = \"Gohar\"\n",
    "surename = \"Aghajanyan\"\n",
    "age = 27\n",
    "print('My name is %s %s. I\\'m %d years old.'%(name, surename, age))"
   ]
  },
  {
   "cell_type": "code",
   "execution_count": 76,
   "metadata": {},
   "outputs": [
    {
     "data": {
      "text/plain": [
       "bool"
      ]
     },
     "execution_count": 76,
     "metadata": {},
     "output_type": "execute_result"
    }
   ],
   "source": [
    "x = [1, 2, True, \"me\"]\n",
    "type(x)\n",
    "type(x[2])"
   ]
  },
  {
   "cell_type": "code",
   "execution_count": 79,
   "metadata": {},
   "outputs": [
    {
     "name": "stdout",
     "output_type": "stream",
     "text": [
      "13\n",
      "0\n",
      "2\n"
     ]
    }
   ],
   "source": [
    "#count\n",
    "a = 'We are the champions my friends! and We will be fighting till the end!'\n",
    "print(a.count(' '))\n",
    "print(a.count('we'))\n",
    "a1 = a.lower()\n",
    "print(a1.count('we'))"
   ]
  },
  {
   "cell_type": "code",
   "execution_count": null,
   "metadata": {},
   "outputs": [],
   "source": []
  }
 ],
 "metadata": {
  "kernelspec": {
   "display_name": "Python 3",
   "language": "python",
   "name": "python3"
  },
  "language_info": {
   "codemirror_mode": {
    "name": "ipython",
    "version": 3
   },
   "file_extension": ".py",
   "mimetype": "text/x-python",
   "name": "python",
   "nbconvert_exporter": "python",
   "pygments_lexer": "ipython3",
   "version": "3.7.4"
  }
 },
 "nbformat": 4,
 "nbformat_minor": 2
}
