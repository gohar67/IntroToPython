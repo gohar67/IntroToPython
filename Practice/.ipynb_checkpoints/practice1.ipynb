{
 "cells": [
  {
   "cell_type": "code",
   "execution_count": 8,
   "metadata": {},
   "outputs": [
    {
     "name": "stdout",
     "output_type": "stream",
     "text": [
      "4.0\n",
      "<class 'int'>\n",
      "4.0\n"
     ]
    }
   ],
   "source": [
    "import math\n",
    "x = 16\n",
    "y = (math.sqrt(x))\n",
    "print(y)\n",
    "print(type(x))\n",
    "type(y)\n",
    "z = 16**0.5\n",
    "print(z)"
   ]
  },
  {
   "cell_type": "code",
   "execution_count": 24,
   "metadata": {},
   "outputs": [
    {
     "name": "stdout",
     "output_type": "stream",
     "text": [
      "     March 2020\n",
      "Mo Tu We Th Fr Sa Su\n",
      "                   1\n",
      " 2  3  4  5  6  7  8\n",
      " 9 10 11 12 13 14 15\n",
      "16 17 18 19 20 21 22\n",
      "23 24 25 26 27 28 29\n",
      "30 31\n",
      "\n",
      "2020-03-17\n"
     ]
    }
   ],
   "source": [
    "import calendar\n",
    "cal = calendar.month(2020, 3)\n",
    "print(cal)\n",
    "\n",
    "import datetime\n",
    "tday = datetime.date.today()\n",
    "print(tday)"
   ]
  },
  {
   "cell_type": "code",
   "execution_count": 3,
   "metadata": {},
   "outputs": [
    {
     "name": "stdout",
     "output_type": "stream",
     "text": [
      "Time:  09:30:45.100000\n",
      "Hours:  9\n",
      "Minute:  30\n"
     ]
    }
   ],
   "source": [
    "import datetime\n",
    "t = datetime.time(9, 30, 45, 100000)\n",
    "print('Time: ', t)\n",
    "\n",
    "print('Hours: ', t.hour)\n",
    "print('Minute: ', t.minute)"
   ]
  },
  {
   "cell_type": "code",
   "execution_count": null,
   "metadata": {},
   "outputs": [],
   "source": []
  }
 ],
 "metadata": {
  "kernelspec": {
   "display_name": "Python 3",
   "language": "python",
   "name": "python3"
  },
  "language_info": {
   "codemirror_mode": {
    "name": "ipython",
    "version": 3
   },
   "file_extension": ".py",
   "mimetype": "text/x-python",
   "name": "python",
   "nbconvert_exporter": "python",
   "pygments_lexer": "ipython3",
   "version": "3.7.4"
  }
 },
 "nbformat": 4,
 "nbformat_minor": 2
}
