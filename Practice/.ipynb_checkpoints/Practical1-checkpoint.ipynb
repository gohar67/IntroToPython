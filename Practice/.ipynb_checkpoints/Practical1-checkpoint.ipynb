{
 "cells": [
  {
   "cell_type": "code",
   "execution_count": 13,
   "metadata": {},
   "outputs": [
    {
     "name": "stdout",
     "output_type": "stream",
     "text": [
      "course:Intro to Python\n",
      "student: Gohar Aghajanyan\n",
      "nickname: Gohar93\n",
      "Grade 100\n",
      "python_expert True\n"
     ]
    }
   ],
   "source": [
    "course = \"Intro to Python\"\n",
    "student = \"Gohar Aghajanyan\"\n",
    "Nickname = \"Gohar93\"\n",
    "Grade = 100\n",
    "python_expert = True\n",
    "print(\"course:\" + course)\n",
    "print(\"student: \" +student)\n",
    "print(\"nickname: \" +Nickname)\n",
    "print(\"Grade\", Grade)\n",
    "print(\"python_expert\", python_expert)"
   ]
  },
  {
   "cell_type": "code",
   "execution_count": 24,
   "metadata": {},
   "outputs": [
    {
     "name": "stdout",
     "output_type": "stream",
     "text": [
      "the hypotenuse of the triangle ABC is  5.0\n"
     ]
    }
   ],
   "source": [
    "AB = 3\n",
    "AC = 4\n",
    "BC = AB**2 + AC**2\n",
    "BC **=(1/2)\n",
    "print(\"the hypotenuse of the triangle ABC is \", BC)"
   ]
  },
  {
   "cell_type": "code",
   "execution_count": 17,
   "metadata": {},
   "outputs": [
    {
     "data": {
      "text/plain": [
       "5.0"
      ]
     },
     "execution_count": 17,
     "metadata": {},
     "output_type": "execute_result"
    }
   ],
   "source": [
    "import math\n",
    "math.sqrt(25)"
   ]
  },
  {
   "cell_type": "code",
   "execution_count": null,
   "metadata": {},
   "outputs": [],
   "source": []
  }
 ],
 "metadata": {
  "kernelspec": {
   "display_name": "Python 3",
   "language": "python",
   "name": "python3"
  },
  "language_info": {
   "codemirror_mode": {
    "name": "ipython",
    "version": 3
   },
   "file_extension": ".py",
   "mimetype": "text/x-python",
   "name": "python",
   "nbconvert_exporter": "python",
   "pygments_lexer": "ipython3",
   "version": "3.7.4"
  }
 },
 "nbformat": 4,
 "nbformat_minor": 2
}
