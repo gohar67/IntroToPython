{
 "cells": [
  {
   "cell_type": "code",
   "execution_count": 2,
   "metadata": {},
   "outputs": [
    {
     "name": "stdout",
     "output_type": "stream",
     "text": [
      "please enter your name:Gohar\n",
      "please enter your last name:Aghajanyan\n",
      "Name Gohar\n",
      "Last Name Aghajanyan\n"
     ]
    }
   ],
   "source": [
    "name = input('please enter your name:' )\n",
    "last_name = input('please enter your last name:' )\n",
    "print('Name ' + name)\n",
    "print('Last Name ' + last_name)"
   ]
  },
  {
   "cell_type": "code",
   "execution_count": 6,
   "metadata": {},
   "outputs": [
    {
     "name": "stdout",
     "output_type": "stream",
     "text": [
      "enter a number: 1\n",
      "enter a number: 2\n",
      "First number:  1\n",
      "Second number:  2\n",
      "Sum:  3\n"
     ]
    }
   ],
   "source": [
    "num1 = int(input('enter a number: '))\n",
    "num2 = int(input('enter a number: '))\n",
    "print('First number: ', num1)\n",
    "print('Second number: ', num2)\n",
    "print('Sum: ', num1 + num2)"
   ]
  },
  {
   "cell_type": "code",
   "execution_count": 7,
   "metadata": {},
   "outputs": [
    {
     "name": "stdout",
     "output_type": "stream",
     "text": [
      "Please enter your age: 15\n",
      "Happy Birthday, you are already 15 years old!\n"
     ]
    }
   ],
   "source": [
    "age = int(input('Please enter your age: '))\n",
    "print('Happy Birthday, you are already %d years old!' % age)\n"
   ]
  },
  {
   "cell_type": "code",
   "execution_count": 8,
   "metadata": {},
   "outputs": [
    {
     "name": "stdout",
     "output_type": "stream",
     "text": [
      "write a text: heLLo Spring NICE to meet YOU\n",
      "The given string: heLLo Spring NICE to meet YOU\n",
      "All lowercase:  hello spring nice to meet you\n",
      "All uppercase:  HELLO SPRING NICE TO MEET YOU\n"
     ]
    }
   ],
   "source": [
    "text = input('write a text: ')\n",
    "print('The given string:', text)\n",
    "print('All lowercase: ', text.lower())\n",
    "print('All uppercase: ', text.upper())"
   ]
  },
  {
   "cell_type": "code",
   "execution_count": 9,
   "metadata": {},
   "outputs": [
    {
     "name": "stdout",
     "output_type": "stream",
     "text": [
      "write a text: aaaaaaabbbbbbaaaaaaaag\n",
      "\\# of a 15\n"
     ]
    }
   ],
   "source": [
    "text1 = input('write a text: ')\n",
    "print('\\# of a', text1.count('a'))"
   ]
  },
  {
   "cell_type": "code",
   "execution_count": 12,
   "metadata": {},
   "outputs": [
    {
     "name": "stdout",
     "output_type": "stream",
     "text": [
      "How are you Gohar?\n"
     ]
    }
   ],
   "source": [
    "str1 = 'How are you John?'\n",
    "name = 'Gohar'\n",
    "len(str1)\n",
    "str2 = str1[:12] + name + str1[-1]\n",
    "print(str2)"
   ]
  },
  {
   "cell_type": "code",
   "execution_count": 13,
   "metadata": {},
   "outputs": [
    {
     "name": "stdout",
     "output_type": "stream",
     "text": [
      "How are you Gohar?\n",
      "How are you Gohar?\n"
     ]
    }
   ],
   "source": [
    "str1 = 'How are you John?'\n",
    "name = 'Gohar'\n",
    "len(str1)\n",
    "str2 = str1[:12] + name + str1[-1]\n",
    "print(str2)\n",
    "print(str1.replace('John', name))"
   ]
  },
  {
   "cell_type": "code",
   "execution_count": 14,
   "metadata": {},
   "outputs": [
    {
     "name": "stdout",
     "output_type": "stream",
     "text": [
      "How are you Gohar?\n",
      "How are you Gohar?\n"
     ]
    }
   ],
   "source": [
    "str1 = 'How are you John?'\n",
    "name = 'Gohar'\n",
    "len(str1)\n",
    "str2 = str1[:12] + name + str1[-1]\n",
    "str3 = str1.replace('John', name)\n",
    "print(str2)\n",
    "print(str3)"
   ]
  },
  {
   "cell_type": "code",
   "execution_count": 16,
   "metadata": {},
   "outputs": [
    {
     "name": "stdout",
     "output_type": "stream",
     "text": [
      "Hi, where are you from?\n",
      "I’m from armenia\n",
      "How long have you lived here?\n",
      "For 27 years\n"
     ]
    }
   ],
   "source": [
    "country = \"armenia\"\n",
    "year = 27\n",
    "print(\"\"\"Hi, where are you from?\n",
    "I’m from %s\n",
    "How long have you lived here?\n",
    "For %d years\"\"\" % (country, year))"
   ]
  },
  {
   "cell_type": "code",
   "execution_count": 17,
   "metadata": {},
   "outputs": [
    {
     "name": "stdout",
     "output_type": "stream",
     "text": [
      "please enter text: aghjkloenmsk\n",
      "enter start1\n",
      "enter end5\n",
      "The given text:  aghjkloenmsk\n",
      "Start index:  1\n",
      "End index:  5\n",
      "Output string:  ghjk\n"
     ]
    }
   ],
   "source": [
    "text = input('please enter text: ')\n",
    "start_index = int(input('enter start'))\n",
    "end_index = int(input('enter end'))\n",
    "print('The given text: ', text)\n",
    "print('Start index: ', start_index)\n",
    "print('End index: ', end_index)\n",
    "print('Output string: ', text[start_index:end_index])"
   ]
  },
  {
   "cell_type": "code",
   "execution_count": 26,
   "metadata": {},
   "outputs": [
    {
     "name": "stdout",
     "output_type": "stream",
     "text": [
      "2020-03-21 11:23:17.407017\n",
      "2020\n",
      "3\n",
      "5\n",
      "2020-03-26 11:23:17.407017\n",
      "2020-03-16 11:23:17.407017\n"
     ]
    }
   ],
   "source": [
    "import datetime\n",
    "import time\n",
    "from datetime import timedelta\n",
    "tday = datetime.datetime.today()\n",
    "tdelta = datetime.timedelta(days = 5)\n",
    "after = tday + tdelta\n",
    "before = tday - tdelta\n",
    "print(tday)\n",
    "print(tday.year)\n",
    "print(tday.month)\n",
    "print(tday.weekday())\n",
    "print(after)\n",
    "print(before)\n"
   ]
  },
  {
   "cell_type": "code",
   "execution_count": null,
   "metadata": {},
   "outputs": [],
   "source": []
  }
 ],
 "metadata": {
  "kernelspec": {
   "display_name": "Python 3",
   "language": "python",
   "name": "python3"
  },
  "language_info": {
   "codemirror_mode": {
    "name": "ipython",
    "version": 3
   },
   "file_extension": ".py",
   "mimetype": "text/x-python",
   "name": "python",
   "nbconvert_exporter": "python",
   "pygments_lexer": "ipython3",
   "version": "3.7.4"
  }
 },
 "nbformat": 4,
 "nbformat_minor": 2
}
