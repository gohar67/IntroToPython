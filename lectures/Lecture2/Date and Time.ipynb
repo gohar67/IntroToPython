{
 "cells": [
  {
   "cell_type": "markdown",
   "metadata": {},
   "source": [
    "\n",
    "\n",
    "\n",
    "\n",
    "## Date and Time"
   ]
  },
  {
   "cell_type": "markdown",
   "metadata": {},
   "source": [
    "There is a popular time module available in Python which provides functions for working with times, and for converting between representations. The function time.time() returns the current system time in ticks since 12:00am, January 1, 1970.\n",
    "\n",
    "1 Tick = 1 Second"
   ]
  },
  {
   "cell_type": "markdown",
   "metadata": {},
   "source": [
    "'1st January 1970' usually called as \"epoch date\" is the date when the time started for Unix computers"
   ]
  },
  {
   "cell_type": "code",
   "execution_count": 3,
   "metadata": {},
   "outputs": [
    {
     "name": "stdout",
     "output_type": "stream",
     "text": [
      "Number of ticks since 12:00am, January 1, 1970: 1583947156.534438\n"
     ]
    }
   ],
   "source": [
    "import time\n",
    "\n",
    "ticks = time.time()\n",
    "print (\"Number of ticks since 12:00am, January 1, 1970:\", ticks)"
   ]
  },
  {
   "cell_type": "code",
   "execution_count": 4,
   "metadata": {},
   "outputs": [
    {
     "name": "stdout",
     "output_type": "stream",
     "text": [
      "Local current time : time.struct_time(tm_year=2020, tm_mon=3, tm_mday=11, tm_hour=21, tm_min=19, tm_sec=33, tm_wday=2, tm_yday=71, tm_isdst=0)\n"
     ]
    }
   ],
   "source": [
    "localtime = time.localtime()\n",
    "print (\"Local current time :\", localtime)"
   ]
  },
  {
   "cell_type": "markdown",
   "metadata": {},
   "source": [
    "Daylight Saving Time (DST) is the practice of setting the clocks forward one hour from standard time during the summer months."
   ]
  },
  {
   "cell_type": "code",
   "execution_count": 5,
   "metadata": {},
   "outputs": [
    {
     "name": "stdout",
     "output_type": "stream",
     "text": [
      "Local current time : Wed Mar 11 21:20:48 2020\n",
      "<class 'str'>\n"
     ]
    }
   ],
   "source": [
    "localtime = time.asctime()\n",
    "print (\"Local current time :\", localtime)\n",
    "print(type(localtime))"
   ]
  },
  {
   "cell_type": "markdown",
   "metadata": {
    "collapsed": true
   },
   "source": [
    "### Getting calendar for a month"
   ]
  },
  {
   "cell_type": "code",
   "execution_count": 6,
   "metadata": {},
   "outputs": [
    {
     "name": "stdout",
     "output_type": "stream",
     "text": [
      "Here is the calendar:\n",
      "    January 2008\n",
      "Mo Tu We Th Fr Sa Su\n",
      "    1  2  3  4  5  6\n",
      " 7  8  9 10 11 12 13\n",
      "14 15 16 17 18 19 20\n",
      "21 22 23 24 25 26 27\n",
      "28 29 30 31\n",
      "\n",
      "<class 'str'>\n"
     ]
    }
   ],
   "source": [
    "import calendar\n",
    "\n",
    "cal = calendar.month(2008, 1)\n",
    "print (\"Here is the calendar:\")\n",
    "print (cal)\n",
    "print(type(cal))"
   ]
  },
  {
   "cell_type": "markdown",
   "metadata": {},
   "source": [
    "datetime module and its classes"
   ]
  },
  {
   "cell_type": "code",
   "execution_count": 7,
   "metadata": {},
   "outputs": [
    {
     "name": "stdout",
     "output_type": "stream",
     "text": [
      "2016-07-24\n",
      "<class 'datetime.date'>\n"
     ]
    }
   ],
   "source": [
    "import datetime\n",
    "\n",
    "d = datetime.date(2016, 7, 24)\n",
    "print(d)\n",
    "print(type(d))"
   ]
  },
  {
   "cell_type": "code",
   "execution_count": 9,
   "metadata": {},
   "outputs": [
    {
     "data": {
      "text/plain": [
       "(datetime.date(2020, 3, 11), datetime.date)"
      ]
     },
     "execution_count": 9,
     "metadata": {},
     "output_type": "execute_result"
    }
   ],
   "source": [
    "tday = datetime.date.today()\n",
    "tday, type(tday)"
   ]
  },
  {
   "cell_type": "code",
   "execution_count": 10,
   "metadata": {},
   "outputs": [],
   "source": [
    "?datetime.date"
   ]
  },
  {
   "cell_type": "code",
   "execution_count": 11,
   "metadata": {},
   "outputs": [
    {
     "name": "stdout",
     "output_type": "stream",
     "text": [
      "Date:  2020-03-11\n",
      "Year:  2020\n",
      "Month:  3\n",
      "Day:  11\n",
      "Day of the week (version 1):  3\n",
      "Day of the week (version 0):  2\n"
     ]
    }
   ],
   "source": [
    "tday = datetime.date.today()\n",
    "print('Date: ', tday)\n",
    "print('Year: ', tday.year)\n",
    "print('Month: ', tday.month)\n",
    "print('Day: ', tday.day)\n",
    "print('Day of the week (version 1): ', tday.isoweekday())\n",
    "#Monday 1  Tuesday 2 ...\n",
    "print('Day of the week (version 0): ', tday.weekday())\n",
    "#Monday 0  Tuesday 1 ..."
   ]
  },
  {
   "cell_type": "code",
   "execution_count": 14,
   "metadata": {
    "scrolled": true
   },
   "outputs": [
    {
     "name": "stdout",
     "output_type": "stream",
     "text": [
      "Date today:  2019-10-24\n",
      "<class 'datetime.timedelta'>\n",
      "Date today + 7 days:  2019-10-31\n",
      "Date today - 7 days:  2019-10-17\n"
     ]
    }
   ],
   "source": [
    "tday = datetime.date.today()\n",
    "print('Date today: ', tday)\n",
    "tdelta = datetime.timedelta(days = 7)\n",
    "print(type(tdelta))\n",
    "print('Date today + 7 days: ', tday + tdelta)\n",
    "print('Date today - 7 days: ', tday - tdelta)\n",
    "#date2 = date1 + timedelta"
   ]
  },
  {
   "cell_type": "code",
   "execution_count": 15,
   "metadata": {},
   "outputs": [],
   "source": [
    "?datetime.timedelta"
   ]
  },
  {
   "cell_type": "code",
   "execution_count": 16,
   "metadata": {},
   "outputs": [
    {
     "name": "stdout",
     "output_type": "stream",
     "text": [
      "Days until my next birthday:  104 days, 0:00:00\n",
      "Seconds until my next birthday:  8985600.0\n"
     ]
    }
   ],
   "source": [
    "bday = datetime.date(2020, 2, 5)\n",
    "tday = datetime.date.today()\n",
    "till_bday = bday - tday\n",
    "print(\"Days until my next birthday: \", till_bday)\n",
    "print(\"Seconds until my next birthday: \", till_bday.total_seconds())"
   ]
  },
  {
   "cell_type": "code",
   "execution_count": 19,
   "metadata": {},
   "outputs": [
    {
     "name": "stdout",
     "output_type": "stream",
     "text": [
      "Time:  09:30:45.100000\n",
      "Hours:  9\n"
     ]
    }
   ],
   "source": [
    "# datetime.time(hour, minutes, seconds, miliseconds)\n",
    "t = datetime.time(9, 30, 45, 100000)\n",
    "print('Time: ', t)\n",
    "\n",
    "print('Hours: ', t.hour)\n",
    "a = 'a'\n",
    "a."
   ]
  },
  {
   "cell_type": "code",
   "execution_count": 20,
   "metadata": {},
   "outputs": [
    {
     "name": "stdout",
     "output_type": "stream",
     "text": [
      "Date:  2016-07-26 12:30:45.100000 <class 'datetime.datetime'>\n",
      "Time:  12:30:45.100000 <class 'datetime.time'>\n",
      "Year:  2016\n",
      "2016-07-26 <class 'datetime.date'>\n"
     ]
    }
   ],
   "source": [
    "#datetime.datetime(year, month, day, hour, minutes, seconds, miliseconds)\n",
    "dt = datetime.datetime(2016, 7, 26, 12, 30, 45, 100000)\n",
    "print('Date: ', dt, type(dt))\n",
    "print('Time: ', dt.time(), type(dt.time()))\n",
    "print('Year: ', dt.year)\n",
    "print(dt.date(), type(dt.date()))"
   ]
  },
  {
   "cell_type": "code",
   "execution_count": 21,
   "metadata": {},
   "outputs": [
    {
     "name": "stdout",
     "output_type": "stream",
     "text": [
      "Date and Time:  2016-07-26 12:30:45.100000\n",
      "+ 7 days:  2016-07-26 12:30:52.100000\n"
     ]
    }
   ],
   "source": [
    "dt = datetime.datetime(2016, 7, 26, 12, 30, 45, 100000)\n",
    "tdelta = datetime.timedelta(seconds = 7)\n",
    "print('Date and Time: ', dt)\n",
    "print('+ 7 days: ', dt + tdelta)"
   ]
  },
  {
   "cell_type": "code",
   "execution_count": 22,
   "metadata": {},
   "outputs": [
    {
     "name": "stdout",
     "output_type": "stream",
     "text": [
      "Date and Time:  2016-07-26 12:30:45.100000\n",
      "+ 12 hours:  2016-07-27 00:30:45.100000\n"
     ]
    }
   ],
   "source": [
    "dt = datetime.datetime(2016, 7, 26, 12, 30, 45, 100000)\n",
    "tdelta = datetime.timedelta(hours = 12)\n",
    "print('Date and Time: ', dt)\n",
    "print('+ 12 hours: ', dt + tdelta)"
   ]
  },
  {
   "cell_type": "code",
   "execution_count": 23,
   "metadata": {},
   "outputs": [
    {
     "name": "stdout",
     "output_type": "stream",
     "text": [
      "Date and time now:  2019-10-24 20:02:34.893268\n",
      "Date and time today:  2019-10-24 20:02:34.893302\n"
     ]
    }
   ],
   "source": [
    "dt_now = datetime.datetime.now()\n",
    "dt_today = datetime.datetime.today()\n",
    "\n",
    "\n",
    "print('Date and time now: ', dt_now)\n",
    "print('Date and time today: ', dt_today)\n",
    "\n",
    "\n",
    "#the 2 would be exactly the same if were executed at the same time "
   ]
  },
  {
   "cell_type": "markdown",
   "metadata": {},
   "source": [
    "time\n",
    "\n",
    "calendar\n",
    "\n",
    "datetime\n",
    "\n",
    "    datetime.date\n",
    "    datetime.time\n",
    "    datetime.datetime\n",
    "    datetime.timedelta"
   ]
  },
  {
   "cell_type": "markdown",
   "metadata": {},
   "source": [
    "## Exercises"
   ]
  },
  {
   "cell_type": "markdown",
   "metadata": {},
   "source": [
    "```\n",
    "Write a Python program to print yesterday, today, tomorrow.\n",
    "```"
   ]
  },
  {
   "cell_type": "code",
   "execution_count": 27,
   "metadata": {},
   "outputs": [
    {
     "name": "stdout",
     "output_type": "stream",
     "text": [
      "Yesterday :  2019-10-23 19:05:09.238998\n",
      "Today :  2019-10-24 20:05:09.238998\n",
      "Tomorrow :  2019-10-25 21:05:09.238998\n"
     ]
    }
   ],
   "source": [
    "import datetime \n",
    "today = datetime.date.today()\n",
    "#today = datetime.datetime.today()\n",
    "one_day = datetime.timedelta(days = 1)\n",
    "#one_day = datetime.timedelta(days = 1, hours = 1)\n",
    "yesterday = today - one_day\n",
    "tomorrow = today + one_day\n",
    "print('Yesterday : ',yesterday)\n",
    "print('Today : ',today)\n",
    "print('Tomorrow : ',tomorrow)"
   ]
  },
  {
   "cell_type": "markdown",
   "metadata": {},
   "source": [
    "```\n",
    "Write a Python program to calculate two date difference in days and seconds.\n",
    "```"
   ]
  },
  {
   "cell_type": "code",
   "execution_count": 30,
   "metadata": {},
   "outputs": [
    {
     "name": "stdout",
     "output_type": "stream",
     "text": [
      "1736 days, 16:23:26.678704\n",
      "<class 'datetime.timedelta'>\n"
     ]
    },
    {
     "data": {
      "text/plain": [
       "(1736, 59006)"
      ]
     },
     "execution_count": 30,
     "metadata": {},
     "output_type": "execute_result"
    }
   ],
   "source": [
    "date1 = datetime.datetime(2024, 7, 26, 12, 30, 45, 100000)\n",
    "date2 = datetime.datetime.today()\n",
    "date3 = date1 - date2\n",
    "print(date3)\n",
    "print(type(date3))\n",
    "date3.days, date3.seconds"
   ]
  },
  {
   "cell_type": "code",
   "execution_count": 29,
   "metadata": {},
   "outputs": [],
   "source": [
    "?datetime.datetime"
   ]
  }
 ],
 "metadata": {
  "kernelspec": {
   "display_name": "Python 3",
   "language": "python",
   "name": "python3"
  },
  "language_info": {
   "codemirror_mode": {
    "name": "ipython",
    "version": 3
   },
   "file_extension": ".py",
   "mimetype": "text/x-python",
   "name": "python",
   "nbconvert_exporter": "python",
   "pygments_lexer": "ipython3",
   "version": "3.7.4"
  }
 },
 "nbformat": 4,
 "nbformat_minor": 2
}
