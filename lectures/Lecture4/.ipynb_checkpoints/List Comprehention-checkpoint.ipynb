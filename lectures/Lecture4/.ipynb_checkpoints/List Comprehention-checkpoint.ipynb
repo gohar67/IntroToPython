{
 "cells": [
  {
   "cell_type": "markdown",
   "metadata": {},
   "source": [
    "```\n",
    "Create lists\n",
    "Replace loops and more\n",
    "\n",
    "Make your code more readable\n",
    "```"
   ]
  },
  {
   "cell_type": "markdown",
   "metadata": {},
   "source": [
    "## Lists - recap"
   ]
  },
  {
   "cell_type": "markdown",
   "metadata": {},
   "source": [
    "```\n",
    "Instead of storing each value in a different variable -> store in a Python list\n",
    "\n",
    "- Different data types in one place\n",
    "- Ordered collections (sequence types, can be iterated)\n",
    "```"
   ]
  },
  {
   "cell_type": "code",
   "execution_count": 1,
   "metadata": {},
   "outputs": [
    {
     "data": {
      "text/plain": [
       "[1, True, 3, 5, 'lala', 7, 8, 10]"
      ]
     },
     "execution_count": 1,
     "metadata": {},
     "output_type": "execute_result"
    }
   ],
   "source": [
    "# Assign values to variables\n",
    "a = 1\n",
    "b = True\n",
    "c = 3\n",
    "d = 5\n",
    "...\n",
    "\n",
    "# Create a list  \n",
    "count_list = [1,True,3,5,'lala',7,8,10]\n",
    "count_list"
   ]
  },
  {
   "cell_type": "markdown",
   "metadata": {},
   "source": [
    "```\n",
    "- Sometimes creating lists may take time when doing it manually. \n",
    "- Possibility of mistakes is high.\n",
    "\n",
    "List comprehention is a formula-like way of building lists.\n",
    "```"
   ]
  },
  {
   "cell_type": "markdown",
   "metadata": {},
   "source": [
    "## The structure of list comprehentions in Python"
   ]
  },
  {
   "cell_type": "markdown",
   "metadata": {},
   "source": [
    "```\n",
    "list_car = [ x for x in iterable ]\n",
    "```"
   ]
  },
  {
   "cell_type": "markdown",
   "metadata": {},
   "source": [
    "## Recall some notations from mathematics"
   ]
  },
  {
   "cell_type": "markdown",
   "metadata": {},
   "source": [
    "S = {x² : x in {0 ... 9}}\n",
    "\n",
    "V = (1, 2, 4, 8, ..., 2¹²)\n",
    "\n",
    "M = {x | x in S and x even}"
   ]
  },
  {
   "cell_type": "code",
   "execution_count": 2,
   "metadata": {},
   "outputs": [],
   "source": [
    "S = {0, 1, 4, 9, 16, 25, 36, 49, 64, 81}\n",
    "V = {1, 2, 4, 8, 16, 32, 64, 128, 256, 512, 1024, 2048, 4096}\n",
    "M = {0, 4, 16, 36, 64}"
   ]
  },
  {
   "cell_type": "markdown",
   "metadata": {},
   "source": [
    "## List comprehentions for the above notations"
   ]
  },
  {
   "cell_type": "code",
   "execution_count": 10,
   "metadata": {},
   "outputs": [
    {
     "data": {
      "text/plain": [
       "[0, 1, 4, 9, 16, 25, 36, 49, 64, 81]"
      ]
     },
     "execution_count": 10,
     "metadata": {},
     "output_type": "execute_result"
    }
   ],
   "source": [
    "S = [x**2 for x in range(10)]\n",
    "V = [2**i for i in range(13)]\n",
    "S"
   ]
  },
  {
   "cell_type": "code",
   "execution_count": 9,
   "metadata": {},
   "outputs": [
    {
     "data": {
      "text/plain": [
       "([0, 1, 4, 9, 16, 25, 36, 49, 64, 81], [0, 4, 16, 36, 64])"
      ]
     },
     "execution_count": 9,
     "metadata": {},
     "output_type": "execute_result"
    }
   ],
   "source": [
    "S = [x**2 for x in range(10)]\n",
    "V = [2**i for i in range(13)]\n",
    "M = [x for x in S if x % 2 == 0]\n",
    "S, M"
   ]
  },
  {
   "cell_type": "markdown",
   "metadata": {},
   "source": [
    "```\n",
    "- The square brackets, which are a signature of Python lists\n",
    "- The for keyword, followed by a variable that symbolizes a list item\n",
    "- The in keyword, followed by a sequence (which can be a list!).\n",
    "```"
   ]
  },
  {
   "cell_type": "markdown",
   "metadata": {},
   "source": [
    "## Examples"
   ]
  },
  {
   "cell_type": "markdown",
   "metadata": {},
   "source": [
    "Q = {x3: x in {0 ... 10}}"
   ]
  },
  {
   "cell_type": "code",
   "execution_count": 11,
   "metadata": {},
   "outputs": [
    {
     "data": {
      "text/plain": [
       "[0, 1, 8, 27, 64, 125, 216, 343, 512, 729, 1000]"
      ]
     },
     "execution_count": 11,
     "metadata": {},
     "output_type": "execute_result"
    }
   ],
   "source": [
    "Q = [x**3 for x in range(11)]\n",
    "Q"
   ]
  },
  {
   "cell_type": "markdown",
   "metadata": {},
   "source": [
    "```\n",
    "Create a variable NUMBERS which contains numbers from 1 to 20. Create a variable evens which is a list of only the even numbers from the first list and a variable odds which is a list of only the odd numbers from the first list NUMBERS. \n",
    "```"
   ]
  },
  {
   "cell_type": "code",
   "execution_count": 18,
   "metadata": {},
   "outputs": [
    {
     "data": {
      "text/plain": [
       "([1, 2, 3, 4, 5, 6, 7, 8, 9, 10, 11, 12, 13, 14, 15, 16, 17, 18, 19, 20],\n",
       " [2, 4, 6, 8, 10, 12, 14, 16, 18, 20],\n",
       " [1, 3, 5, 7, 9, 11, 13, 15, 17, 19])"
      ]
     },
     "execution_count": 18,
     "metadata": {},
     "output_type": "execute_result"
    }
   ],
   "source": [
    "numbers = list(range(1,21))\n",
    "#numbers = [x for x in range(1,21)]\n",
    "evens = [x for x in numbers if x%2==0]\n",
    "odds = [x for x in numbers if x%2==1]\n",
    "numbers, evens, odds"
   ]
  },
  {
   "cell_type": "code",
   "execution_count": 6,
   "metadata": {},
   "outputs": [
    {
     "name": "stdout",
     "output_type": "stream",
     "text": [
      "[1, 2, 3, 4, 5, 6, 7, 8, 9, 10, 11, 12, 13, 14, 15, 16, 17, 18, 19, 20]\n",
      "[2, 4, 6, 8, 10, 12, 14, 16, 18, 20]\n",
      "[1, 3, 5, 7, 9, 11, 13, 15, 17, 19]\n"
     ]
    }
   ],
   "source": [
    "numbers = list(range(1,21))\n",
    "evens = []\n",
    "odds = []\n",
    "\n",
    "\n",
    "for n in numbers:\n",
    "    if n%2==0:\n",
    "        evens.append(n)\n",
    "    else:\n",
    "        odds.append(n)\n",
    "\n",
    "print(numbers)\n",
    "print(evens)\n",
    "print(odds)"
   ]
  },
  {
   "cell_type": "code",
   "execution_count": 7,
   "metadata": {},
   "outputs": [
    {
     "name": "stdout",
     "output_type": "stream",
     "text": [
      "[1, 2, 3, 4, 5, 6, 7, 8, 9, 10, 11, 12, 13, 14, 15, 16, 17, 18, 19, 20]\n",
      "[2, 4, 6, 8, 10, 12, 14, 16, 18, 20]\n",
      "[1, 3, 5, 7, 9, 11, 13, 15, 17, 19]\n"
     ]
    }
   ],
   "source": [
    "numbers = list(range(1,21))\n",
    "evens = [n for n in numbers if n%2==0]\n",
    "odds = [n for n in numbers if n%2!=0]\n",
    "\n",
    "print(numbers)\n",
    "print(evens)\n",
    "print(odds)"
   ]
  },
  {
   "cell_type": "markdown",
   "metadata": {},
   "source": [
    "## List comprehention is not only more readable but also faster."
   ]
  },
  {
   "cell_type": "code",
   "execution_count": 19,
   "metadata": {},
   "outputs": [],
   "source": [
    "import timeit"
   ]
  },
  {
   "cell_type": "code",
   "execution_count": 20,
   "metadata": {},
   "outputs": [
    {
     "name": "stdout",
     "output_type": "stream",
     "text": [
      "0.5901830120000113\n"
     ]
    }
   ],
   "source": [
    "# Print the execution time\n",
    "print(timeit.timeit('[n for n in range(1000) if n%2==0]', number=10000))"
   ]
  },
  {
   "cell_type": "code",
   "execution_count": 21,
   "metadata": {},
   "outputs": [
    {
     "name": "stdout",
     "output_type": "stream",
     "text": [
      "0.7961977840000145\n"
     ]
    }
   ],
   "source": [
    "def evens(numbers):\n",
    "    new_list = []\n",
    "    for n in numbers:\n",
    "        if n%2==0:\n",
    "            new_list.append(n)\n",
    "    return new_list\n",
    "\n",
    "# Print the execution time \n",
    "print(timeit.timeit('evens(range(1000))', globals=globals(), number=10000))"
   ]
  },
  {
   "cell_type": "markdown",
   "metadata": {},
   "source": [
    "## Conditionals in list comprehention"
   ]
  },
  {
   "cell_type": "code",
   "execution_count": 22,
   "metadata": {},
   "outputs": [
    {
     "name": "stdout",
     "output_type": "stream",
     "text": [
      "[4, 6, 8, 10]\n"
     ]
    }
   ],
   "source": [
    "l1 = [1, 3, 4, 6, 7, 8, 10, 13]\n",
    "even = [x for x in l1 if x%2==0]\n",
    "\n",
    "# Print `uneven` \n",
    "print(even)"
   ]
  },
  {
   "cell_type": "code",
   "execution_count": 23,
   "metadata": {},
   "outputs": [
    {
     "name": "stdout",
     "output_type": "stream",
     "text": [
      "[4, 6, 8, 10]\n"
     ]
    }
   ],
   "source": [
    "l1 = [1, 3, 4, 6, 7, 8, 10, 13]\n",
    "even = []\n",
    "\n",
    "for x in l1:\n",
    "    if x % 2 == 0:\n",
    "        even.append(x)\n",
    "\n",
    "print(even)"
   ]
  },
  {
   "cell_type": "markdown",
   "metadata": {},
   "source": [
    "## Multiple if conditions"
   ]
  },
  {
   "cell_type": "code",
   "execution_count": 26,
   "metadata": {},
   "outputs": [
    {
     "name": "stdout",
     "output_type": "stream",
     "text": [
      "[0, 6, 12, 18, 24, 30, 36, 42, 48, 54, 60, 66, 72, 78, 84, 90, 96]\n"
     ]
    }
   ],
   "source": [
    "list2 = [x for x in range(100) if x % 2 == 0 if x % 6 == 0]\n",
    "\n",
    "print(list2)"
   ]
  },
  {
   "cell_type": "markdown",
   "metadata": {},
   "source": [
    "## If-Else conditions"
   ]
  },
  {
   "cell_type": "code",
   "execution_count": 27,
   "metadata": {},
   "outputs": [
    {
     "name": "stdout",
     "output_type": "stream",
     "text": [
      "the old list:  [1, 3, 4, 6, 140000, 7, 8, 10, 13, 130000]\n",
      "the old list:  [6, 8, 9, 11, 140001, 12, 13, 15, 18, 130001]\n"
     ]
    }
   ],
   "source": [
    "l1 = [1, 3, 4, 6, 140000, 7, 8, 10, 13, 130000]\n",
    "l3 = [x+1 if x >= 120000 else x+5 for x in l1]\n",
    "\n",
    "print('the old list: ',l1)\n",
    "print('the old list: ',l3)"
   ]
  },
  {
   "cell_type": "code",
   "execution_count": 12,
   "metadata": {},
   "outputs": [
    {
     "data": {
      "text/plain": [
       "[6, 8, 9, 11, 140001, 12, 13, 15, 18, 130001]"
      ]
     },
     "execution_count": 12,
     "metadata": {},
     "output_type": "execute_result"
    }
   ],
   "source": [
    "l1 = [1, 3, 4, 6, 140000, 7, 8, 10, 13, 130000]\n",
    "\n",
    "for x in range(len(l1)):  \n",
    "    if l1[x] >= 120000:\n",
    "        l1[x] += 1\n",
    "    else: \n",
    "        l1[x] += 5\n",
    "        \n",
    "l1"
   ]
  },
  {
   "cell_type": "markdown",
   "metadata": {},
   "source": [
    "## Nested list comprehentions (just for your info)"
   ]
  },
  {
   "cell_type": "code",
   "execution_count": 28,
   "metadata": {},
   "outputs": [
    {
     "data": {
      "text/plain": [
       "[1, 2, 3, 4, 5, 6, 7, 8]"
      ]
     },
     "execution_count": 28,
     "metadata": {},
     "output_type": "execute_result"
    }
   ],
   "source": [
    "list_of_lists = [[1,2,3],[4,5,6],[7,8]]\n",
    "\n",
    "\n",
    "l4 = [y for x in list_of_lists for y in x]\n",
    "l4"
   ]
  },
  {
   "cell_type": "code",
   "execution_count": 29,
   "metadata": {},
   "outputs": [
    {
     "data": {
      "text/plain": [
       "[[1, 4, 7], [2, 5, 8], [3, 6, 9]]"
      ]
     },
     "execution_count": 29,
     "metadata": {},
     "output_type": "execute_result"
    }
   ],
   "source": [
    "matrix = [[1,2,3],[4,5,6],[7,8,9]]\n",
    "\n",
    "transposed = [[row[i] for row in matrix] for i in range(3)]\n",
    "transposed"
   ]
  },
  {
   "cell_type": "code",
   "execution_count": 17,
   "metadata": {},
   "outputs": [
    {
     "data": {
      "text/plain": [
       "[[1, 4, 7], [2, 5, 8], [3, 6, 9]]"
      ]
     },
     "execution_count": 17,
     "metadata": {},
     "output_type": "execute_result"
    }
   ],
   "source": [
    "transposed = []\n",
    "\n",
    "for i in range(3):\n",
    "    transposed_row = []\n",
    "    for row in matrix:\n",
    "        transposed_row.append(row[i])\n",
    "    transposed.append(transposed_row)\n",
    "\n",
    "transposed"
   ]
  },
  {
   "cell_type": "markdown",
   "metadata": {},
   "source": [
    "## Using list comprehention to create a list of lists"
   ]
  },
  {
   "cell_type": "code",
   "execution_count": 30,
   "metadata": {},
   "outputs": [
    {
     "data": {
      "text/plain": [
       "[0, 0, 0, 0]"
      ]
     },
     "execution_count": 30,
     "metadata": {},
     "output_type": "execute_result"
    }
   ],
   "source": [
    "[0 for col in range(4)]"
   ]
  },
  {
   "cell_type": "code",
   "execution_count": 31,
   "metadata": {},
   "outputs": [
    {
     "data": {
      "text/plain": [
       "[[0, 0, 0, 0], [0, 0, 0, 0], [0, 0, 0, 0]]"
      ]
     },
     "execution_count": 31,
     "metadata": {},
     "output_type": "execute_result"
    }
   ],
   "source": [
    "list_of_lists = [[0 for col in range(4)] for row in range(3)]\n",
    "\n",
    "list_of_lists"
   ]
  },
  {
   "cell_type": "markdown",
   "metadata": {},
   "source": [
    "## Good to know"
   ]
  },
  {
   "cell_type": "code",
   "execution_count": 19,
   "metadata": {},
   "outputs": [
    {
     "data": {
      "text/plain": [
       "[1, 3, 4, 6, 7]"
      ]
     },
     "execution_count": 19,
     "metadata": {},
     "output_type": "execute_result"
    }
   ],
   "source": [
    "list1 = [1.0, 3.0, 4, 6, 7.0]\n",
    "list2 = [int(i) for i in list1]\n",
    "list2"
   ]
  },
  {
   "cell_type": "code",
   "execution_count": 21,
   "metadata": {},
   "outputs": [
    {
     "data": {
      "text/plain": [
       "['t', 'i', 'a', 'l', 'o', 'w']"
      ]
     },
     "execution_count": 21,
     "metadata": {},
     "output_type": "execute_result"
    }
   ],
   "source": [
    "listOfWords = [\"this\",\"is\",\"a\",\"list\",\"of\",\"words\"]\n",
    "\n",
    "letters = [ word[0] for word in listOfWords ]\n",
    "letters"
   ]
  },
  {
   "cell_type": "code",
   "execution_count": 22,
   "metadata": {},
   "outputs": [
    {
     "data": {
      "text/plain": [
       "['apple', 'banana', 'pear']"
      ]
     },
     "execution_count": 22,
     "metadata": {},
     "output_type": "execute_result"
    }
   ],
   "source": [
    "x = ['APPLE', 'banana', 'PEAR']\n",
    "\n",
    "lower = [i.lower() for i in x]\n",
    "lower"
   ]
  }
 ],
 "metadata": {
  "kernelspec": {
   "display_name": "Python 3",
   "language": "python",
   "name": "python3"
  },
  "language_info": {
   "codemirror_mode": {
    "name": "ipython",
    "version": 3
   },
   "file_extension": ".py",
   "mimetype": "text/x-python",
   "name": "python",
   "nbconvert_exporter": "python",
   "pygments_lexer": "ipython3",
   "version": "3.7.4"
  }
 },
 "nbformat": 4,
 "nbformat_minor": 2
}
