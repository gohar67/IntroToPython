{
 "cells": [
  {
   "cell_type": "code",
   "execution_count": 3,
   "metadata": {},
   "outputs": [
    {
     "name": "stdout",
     "output_type": "stream",
     "text": [
      "How many pairs u wanna buy? 1\n",
      "You don't get a discount!\n"
     ]
    }
   ],
   "source": [
    "#1\n",
    "p_shoes = 100\n",
    "n_shoes = int(input('How many pairs u wanna buy? '))\n",
    "if p_shoes*n_shoes > 1000:\n",
    "    print('You get a discount!')\n",
    "else:\n",
    "    print('You don\\'t get a discount!')"
   ]
  },
  {
   "cell_type": "code",
   "execution_count": 7,
   "metadata": {},
   "outputs": [
    {
     "name": "stdout",
     "output_type": "stream",
     "text": [
      "Good job!\n"
     ]
    }
   ],
   "source": [
    "#2\n",
    "d = {'name': 'Armen', 'age': 15, 'grades': [10, 8, 8, 4, 6, 7] }\n",
    "if sum(d['grades'])/len(d['grades'])>7:\n",
    "    print('Good job!')\n",
    "else:\n",
    "    print('You need to work more.')"
   ]
  },
  {
   "cell_type": "code",
   "execution_count": 8,
   "metadata": {},
   "outputs": [
    {
     "name": "stdout",
     "output_type": "stream",
     "text": [
      "Good job!\n"
     ]
    }
   ],
   "source": [
    "#2\n",
    "from statistics import mean\n",
    "d = {'name': 'Armen', 'age': 15, 'grades': [10, 8, 8, 4, 6, 7] }\n",
    "if mean(d['grades'])>7:\n",
    "    print('Good job!')\n",
    "else:\n",
    "    print('You need to work more.')\n",
    "    "
   ]
  },
  {
   "cell_type": "code",
   "execution_count": 4,
   "metadata": {},
   "outputs": [
    {
     "name": "stdout",
     "output_type": "stream",
     "text": [
      "1\n",
      "3\n",
      "5\n",
      "7\n",
      "9\n"
     ]
    }
   ],
   "source": [
    "#3\n",
    "for x in range(11):\n",
    "    if x%2 ==0:\n",
    "        continue\n",
    "    print(x)"
   ]
  },
  {
   "cell_type": "code",
   "execution_count": 25,
   "metadata": {},
   "outputs": [
    {
     "name": "stdout",
     "output_type": "stream",
     "text": [
      "i= 1\n",
      "i= 3\n",
      "i= 5\n",
      "i= 7\n",
      "i= 9\n",
      "i= 11\n"
     ]
    }
   ],
   "source": [
    "#4\n",
    "list1 = [1, 3, 5, 7, 9, 11, 13, 15]\n",
    "list2 = [4, 6, 14, 11,8, 16]\n",
    "for i in list1:\n",
    "    print('i=', i)\n",
    "    if i in list2:\n",
    "        break   "
   ]
  },
  {
   "cell_type": "code",
   "execution_count": 20,
   "metadata": {},
   "outputs": [
    {
     "name": "stdout",
     "output_type": "stream",
     "text": [
      "1\n",
      "3\n",
      "5\n",
      "7\n",
      "9\n"
     ]
    }
   ],
   "source": [
    "#4\n",
    "list1 = [1, 3, 5, 7, 9, 11, 13, 15]\n",
    "list2 = [4, 6, 14, 11,8, 16]\n",
    "for i in range(len(list1)):\n",
    "    if list1[i] in list2:\n",
    "        break\n",
    "    print(list1[i])\n",
    "         "
   ]
  },
  {
   "cell_type": "code",
   "execution_count": 10,
   "metadata": {},
   "outputs": [
    {
     "name": "stdout",
     "output_type": "stream",
     "text": [
      "write smthing: kkk\n",
      "Please choose another desert\n",
      "write smthing: lllll\n",
      "Please choose another desert\n",
      "write smthing: ice cream\n",
      "Your desert will arrive in 10 minutes\n"
     ]
    }
   ],
   "source": [
    "#5\n",
    "menu = ['ice cream', 'chocolate', 'apple crisp', 'cookies']\n",
    "for x in menu:\n",
    "    desert = input('write smthing: ')\n",
    "    if desert in menu:\n",
    "        print('Your desert will arrive in 10 minutes')\n",
    "        break\n",
    "    else:\n",
    "        print('Please choose another desert')"
   ]
  },
  {
   "cell_type": "code",
   "execution_count": 1,
   "metadata": {},
   "outputs": [
    {
     "name": "stdout",
     "output_type": "stream",
     "text": [
      "write something: jjjjk\n",
      "Please choose another desert\n",
      "write something: kkk\n",
      "Please choose another desert\n",
      "write something: lll\n",
      "Please choose another desert\n",
      "write something: cookies\n",
      "Your desert will arrive in 10 minutes.\n"
     ]
    }
   ],
   "source": [
    "#5\n",
    "menu = ['ice cream', 'chocolate', 'apple crisp', 'cookies']\n",
    "desert = input('write something: ')\n",
    "while desert not in menu:\n",
    "    print('Please choose another desert')\n",
    "    desert = input('write something: ')\n",
    "print('Your desert will arrive in 10 minutes.')"
   ]
  },
  {
   "cell_type": "code",
   "execution_count": 20,
   "metadata": {},
   "outputs": [
    {
     "name": "stdout",
     "output_type": "stream",
     "text": [
      "3\n",
      "[7, 9, 6]\n"
     ]
    }
   ],
   "source": [
    "#6\n",
    "list2 = [11,5,7,87,9,6,3]\n",
    "list2 = [x for x in list2 if x >5 if x<10]\n",
    "print(len(list2))\n",
    "print(list2)"
   ]
  },
  {
   "cell_type": "code",
   "execution_count": 76,
   "metadata": {},
   "outputs": [
    {
     "name": "stdout",
     "output_type": "stream",
     "text": [
      "[[10, 20, 100], [40, 50, 100], [70, 80, 100]]\n",
      "[[10, 20, 40], [40, 50, 60], [70, 80, 90]]\n"
     ]
    }
   ],
   "source": [
    "#7\n",
    "list4 = [[10, 20, 40], [40, 50, 60], [70, 80, 90]]\n",
    "list5 = [[j if j !=i[-1] else 100 for j in i]for i in list4]\n",
    "print(list5)\n",
    "print(list4)"
   ]
  },
  {
   "cell_type": "code",
   "execution_count": 1,
   "metadata": {},
   "outputs": [
    {
     "name": "stdout",
     "output_type": "stream",
     "text": [
      "[[10, 20, 100], [40, 50, 100], [70, 80, 100]]\n"
     ]
    }
   ],
   "source": [
    "list4 = [[10, 20, 40], [40, 50, 60], [70, 80, 90]]\n",
    "list5 =[i[:2]+[100] for i in list4]\n",
    "print(list5)"
   ]
  },
  {
   "cell_type": "code",
   "execution_count": 12,
   "metadata": {},
   "outputs": [
    {
     "data": {
      "text/plain": [
       "[[10, 20, 40], [40, 50, 60], [70, 80, 90], 100]"
      ]
     },
     "execution_count": 12,
     "metadata": {},
     "output_type": "execute_result"
    }
   ],
   "source": [
    "list4 = [[10, 20, 40], [40, 50, 60], [70, 80, 90]]\n",
    "list5 =list4[:3] +[100]\n",
    "list5\n"
   ]
  },
  {
   "cell_type": "code",
   "execution_count": null,
   "metadata": {},
   "outputs": [],
   "source": []
  },
  {
   "cell_type": "code",
   "execution_count": null,
   "metadata": {},
   "outputs": [],
   "source": []
  }
 ],
 "metadata": {
  "kernelspec": {
   "display_name": "Python 3",
   "language": "python",
   "name": "python3"
  },
  "language_info": {
   "codemirror_mode": {
    "name": "ipython",
    "version": 3
   },
   "file_extension": ".py",
   "mimetype": "text/x-python",
   "name": "python",
   "nbconvert_exporter": "python",
   "pygments_lexer": "ipython3",
   "version": "3.7.4"
  }
 },
 "nbformat": 4,
 "nbformat_minor": 2
}
