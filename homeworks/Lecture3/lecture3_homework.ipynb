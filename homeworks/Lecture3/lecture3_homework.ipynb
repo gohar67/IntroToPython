{
 "cells": [
  {
   "cell_type": "code",
   "execution_count": 1,
   "metadata": {},
   "outputs": [
    {
     "name": "stdout",
     "output_type": "stream",
     "text": [
      "[1, 4, 5, 7, 8, -2, 0, -1]\n"
     ]
    }
   ],
   "source": [
    "#list\n",
    "#1\n",
    "a = [1, 4, 5, 7, 8, -2, 0, -1]\n",
    "print(a)"
   ]
  },
  {
   "cell_type": "code",
   "execution_count": 2,
   "metadata": {},
   "outputs": [
    {
     "name": "stdout",
     "output_type": "stream",
     "text": [
      "5\n",
      "8\n"
     ]
    }
   ],
   "source": [
    "print(a[2])\n",
    "print(a[4])"
   ]
  },
  {
   "cell_type": "code",
   "execution_count": 13,
   "metadata": {},
   "outputs": [
    {
     "name": "stdout",
     "output_type": "stream",
     "text": [
      "[1, 4, 5, 7, 8, -2, 0, -1]\n",
      "[-2, -1, 0, 1, 4, 5, 7, 8]\n"
     ]
    }
   ],
   "source": [
    "a = [1, 4, 5, 7, 8, -2, 0, -1]\n",
    "a_sorted = sorted(a)\n",
    "print(a)\n",
    "print(a_sorted)"
   ]
  },
  {
   "cell_type": "code",
   "execution_count": 15,
   "metadata": {},
   "outputs": [
    {
     "name": "stdout",
     "output_type": "stream",
     "text": [
      "[-2, -1, 0]\n",
      "[-1, 0, 1, 4, 5]\n"
     ]
    }
   ],
   "source": [
    "x = (a_sorted[0:3])\n",
    "y = (a_sorted[1:6])\n",
    "print(x)\n",
    "print(y)"
   ]
  },
  {
   "cell_type": "code",
   "execution_count": 21,
   "metadata": {},
   "outputs": [
    {
     "name": "stdout",
     "output_type": "stream",
     "text": [
      "[-2, -1, 4, 5, 7, 8]\n"
     ]
    }
   ],
   "source": [
    "a_sorted = [-2, -1, 0, 1, 4, 5, 7, 8]\n",
    "a_sorted.pop(3)\n",
    "a_sorted.pop(2)\n",
    "print(a_sorted)"
   ]
  },
  {
   "cell_type": "code",
   "execution_count": 75,
   "metadata": {},
   "outputs": [
    {
     "name": "stdout",
     "output_type": "stream",
     "text": [
      "['tomatoes', 'grapes', 'Sausages', 'Potatoes', 'Orange', 'Lemon', 'Carrot', 'Broccoli']\n",
      "['tomatoes', 'grapes', 'Sausages', 'Potatoes', 'Orange', 'Lemon', 'Carrot', 'Broccoli']\n"
     ]
    }
   ],
   "source": [
    "b = ['grapes', 'Potatoes','tomatoes', 'Orange', 'Lemon','Broccoli', 'Carrot', 'Sausages']\n",
    "b_sorted = b.copy()\n",
    "b_sorted.sort(reverse = True)\n",
    "print(b_sorted)\n",
    "#or\n",
    "b = ['grapes', 'Potatoes','tomatoes', 'Orange', 'Lemon','Broccoli', 'Carrot', 'Sausages']\n",
    "b_sorted = sorted(b)\n",
    "b_sorted.reverse()\n",
    "print(b_sorted)"
   ]
  },
  {
   "cell_type": "code",
   "execution_count": 74,
   "metadata": {},
   "outputs": [
    {
     "name": "stdout",
     "output_type": "stream",
     "text": [
      "[1, 4, 5, 'Orange', 'Lemon', 'Broccoli']\n"
     ]
    }
   ],
   "source": [
    "a = [1, 4, 5, 7, 8, -2, 0, -1]\n",
    "b = ['grapes', 'Potatoes','tomatoes', 'Orange', 'Lemon','Broccoli', 'Carrot', 'Sausages']\n",
    "c = a[0:3] + b[3:6]\n",
    "print(c)"
   ]
  },
  {
   "cell_type": "code",
   "execution_count": 58,
   "metadata": {},
   "outputs": [
    {
     "name": "stdout",
     "output_type": "stream",
     "text": [
      "{False, True, 'Cookies', 'Chocolate', 8, 'Kit-Kat', 10, 'Oreo', 14, 'Jelly', -5, -3, 'Milk'} \n",
      "\n",
      "Yes it is. \n",
      "\n",
      "{False, True, 'Cookies', 'Chocolate', 8, 'Kit-Kat', 10, 14, 'Jelly', -5, -3, 'Milk'}\n"
     ]
    }
   ],
   "source": [
    "#sets\n",
    "a1 = ['Cookies', 'Chocolate', 8, True, -3, -5,'Chocolate', 8, False, 8]\n",
    "b1 = [8, True, 10, 14, 'Chocolate', 'Milk', 'Jelly', True, False, True]\n",
    "set_a = set(a1)\n",
    "set_b = set(b1)\n",
    "union_ab = set_a.union(set_b)\n",
    "intersection_ab = set_a.intersection(set_b)\n",
    "union_ab.add('Kit-Kat')\n",
    "union_ab.add('Oreo')\n",
    "new_set = union_ab or intersection_ab\n",
    "print(new_set, '\\n')\n",
    "\n",
    "if 'Chocolate' in new_set:\n",
    "    print('Yes it is.', '\\n')\n",
    "    \n",
    "new_set.remove('Oreo')\n",
    "print(new_set)"
   ]
  },
  {
   "cell_type": "code",
   "execution_count": 72,
   "metadata": {},
   "outputs": [
    {
     "name": "stdout",
     "output_type": "stream",
     "text": [
      "(1, 'a', -2, 'Anna')\n",
      "(1, 'a', 1, 2, 3)\n",
      "2\n",
      "<class 'tuple'>\n",
      "3\n"
     ]
    }
   ],
   "source": [
    "#tuples\n",
    "t1 = (1, True, 'a', -2, 'Anna')\n",
    "x = list(t1)\n",
    "x.pop(1)\n",
    "t1 = tuple(x)\n",
    "print(t1)\n",
    "\n",
    "t2 = (1, 2,3,4,5)\n",
    "t3 = t1[0:2] + t2[0:3]\n",
    "print(t3)\n",
    "print(t3[3])\n",
    "\n",
    "t4 = tuple([(1,3,5), (8,9), ('Anna', 'Bob', 'Alice')])\n",
    "print(type(t4))\n",
    "print(t4[0][1])"
   ]
  },
  {
   "cell_type": "code",
   "execution_count": 89,
   "metadata": {},
   "outputs": [
    {
     "name": "stdout",
     "output_type": "stream",
     "text": [
      "fruits: ['orange', 'lemon', 'banana', 'apple']\n",
      "old market: {'dairy': ['yogurt', 'cheese'], 'fruits': ['banana', 'apple', 'orange', 'lemon', 'apple', 'banana', 'banana'], 'candies': ['mars', 'kinder', 'twix']}\n",
      "new market: {'dairy': ['yogurt', 'cheese'], 'fruits': ['orange', 'lemon', 'banana', 'apple'], 'candies': ['mars', 'kinder', 'twix']}\n"
     ]
    }
   ],
   "source": [
    "#dictionary\n",
    "market = {'dairy': ['yogurt', 'cheese'], 'fruits': ['banana', 'apple', 'orange', 'lemon', 'apple', 'banana', 'banana']}\n",
    "market['candies'] = ['mars', 'kinder', 'twix']\n",
    "fruits = list(set(market['fruits']))\n",
    "fruits.sort(reverse = True)\n",
    "print('fruits:', fruits)\n",
    "print('old market:', market)\n",
    "market['fruits'] = fruits\n",
    "print('new market:', market)"
   ]
  },
  {
   "cell_type": "code",
   "execution_count": null,
   "metadata": {},
   "outputs": [],
   "source": []
  }
 ],
 "metadata": {
  "kernelspec": {
   "display_name": "Python 3",
   "language": "python",
   "name": "python3"
  },
  "language_info": {
   "codemirror_mode": {
    "name": "ipython",
    "version": 3
   },
   "file_extension": ".py",
   "mimetype": "text/x-python",
   "name": "python",
   "nbconvert_exporter": "python",
   "pygments_lexer": "ipython3",
   "version": "3.7.4"
  }
 },
 "nbformat": 4,
 "nbformat_minor": 2
}
