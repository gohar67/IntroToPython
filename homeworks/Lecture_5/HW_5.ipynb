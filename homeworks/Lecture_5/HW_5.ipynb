{
 "cells": [
  {
   "cell_type": "code",
   "execution_count": 72,
   "metadata": {},
   "outputs": [],
   "source": [
    "#HW1\n",
    "def my_max(*args):\n",
    "    \n",
    "    max_num = args[0]\n",
    "    \n",
    "    if len(args) == 0:\n",
    "        print('no numbers given')\n",
    "    \n",
    "    for i in range(len(args)):\n",
    "        if args[i] > max_num:\n",
    "            max_num = args[i]\n",
    "    print(max_num)"
   ]
  },
  {
   "cell_type": "code",
   "execution_count": 74,
   "metadata": {},
   "outputs": [
    {
     "name": "stdout",
     "output_type": "stream",
     "text": [
      "9\n"
     ]
    }
   ],
   "source": [
    "my_max(9,2,8,7,5)"
   ]
  },
  {
   "cell_type": "code",
   "execution_count": 86,
   "metadata": {},
   "outputs": [],
   "source": [
    "#HW2\n",
    "def my_list(*args):\n",
    "    u_list = []\n",
    "    for x in args:\n",
    "        u_list.append(x)\n",
    "    print(list(set(u_list)))  "
   ]
  },
  {
   "cell_type": "code",
   "execution_count": 87,
   "metadata": {},
   "outputs": [
    {
     "name": "stdout",
     "output_type": "stream",
     "text": [
      "[1, 2, 3, 5, 7, 8]\n"
     ]
    }
   ],
   "source": [
    "my_list(1,1,2,3,2,5,7,8,3,5)"
   ]
  },
  {
   "cell_type": "code",
   "execution_count": 70,
   "metadata": {},
   "outputs": [],
   "source": [
    "#HW3\n",
    "def fib(n):\n",
    "    if n == 1:\n",
    "        return 0\n",
    "    x,y = 0,1\n",
    "    for _ in range(2,n):\n",
    "        x,y = y, y+x\n",
    "    print(y)"
   ]
  },
  {
   "cell_type": "code",
   "execution_count": 75,
   "metadata": {},
   "outputs": [
    {
     "name": "stdout",
     "output_type": "stream",
     "text": [
      "13\n"
     ]
    }
   ],
   "source": [
    "fib(8)"
   ]
  },
  {
   "cell_type": "code",
   "execution_count": 29,
   "metadata": {},
   "outputs": [
    {
     "name": "stdout",
     "output_type": "stream",
     "text": [
      "[12, 15, 68, 35, 16, 19, 62]\n"
     ]
    }
   ],
   "source": [
    "#problem 4\n",
    "def my_func(n:int):\n",
    "    if n<10:\n",
    "        return (n+10)\n",
    "    else:\n",
    "        return (n-10)\n",
    "    \n",
    "list1=[1,2,10,15,20]\n",
    "new_list=list(map(my_func,list1))\n",
    "print(list2)"
   ]
  },
  {
   "cell_type": "code",
   "execution_count": null,
   "metadata": {},
   "outputs": [],
   "source": []
  }
 ],
 "metadata": {
  "kernelspec": {
   "display_name": "Python 3",
   "language": "python",
   "name": "python3"
  },
  "language_info": {
   "codemirror_mode": {
    "name": "ipython",
    "version": 3
   },
   "file_extension": ".py",
   "mimetype": "text/x-python",
   "name": "python",
   "nbconvert_exporter": "python",
   "pygments_lexer": "ipython3",
   "version": "3.7.4"
  }
 },
 "nbformat": 4,
 "nbformat_minor": 2
}
