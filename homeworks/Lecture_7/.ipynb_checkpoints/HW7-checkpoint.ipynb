{
 "cells": [
  {
   "cell_type": "code",
   "execution_count": null,
   "metadata": {},
   "outputs": [],
   "source": [
    "#HW1\n"
   ]
  },
  {
   "cell_type": "code",
   "execution_count": null,
   "metadata": {},
   "outputs": [],
   "source": []
  },
  {
   "cell_type": "code",
   "execution_count": null,
   "metadata": {},
   "outputs": [],
   "source": []
  },
  {
   "cell_type": "code",
   "execution_count": null,
   "metadata": {},
   "outputs": [],
   "source": []
  },
  {
   "cell_type": "code",
   "execution_count": null,
   "metadata": {},
   "outputs": [],
   "source": []
  },
  {
   "cell_type": "code",
   "execution_count": null,
   "metadata": {},
   "outputs": [],
   "source": []
  },
  {
   "cell_type": "code",
   "execution_count": 21,
   "metadata": {},
   "outputs": [
    {
     "data": {
      "text/plain": [
       "array([[9, 1, 1, 5, 8],\n",
       "       [8, 6, 7, 2, 8],\n",
       "       [8, 7, 7, 5, 7]])"
      ]
     },
     "execution_count": 21,
     "metadata": {},
     "output_type": "execute_result"
    }
   ],
   "source": [
    "#numpy 5\n",
    "import numpy as np\n",
    "x = np.random.randint(1,11,(3,5))\n",
    "x"
   ]
  },
  {
   "cell_type": "code",
   "execution_count": 5,
   "metadata": {},
   "outputs": [
    {
     "data": {
      "text/plain": [
       "array([0, 0, 0, 0, 0, 3, 0, 0, 0, 0])"
      ]
     },
     "execution_count": 5,
     "metadata": {},
     "output_type": "execute_result"
    }
   ],
   "source": [
    "#numpy 6\n",
    "z = np.zeros(10, dtype=int)\n",
    "z[5]=3\n",
    "z"
   ]
  },
  {
   "cell_type": "code",
   "execution_count": 7,
   "metadata": {},
   "outputs": [
    {
     "data": {
      "text/plain": [
       "array([ 3,  4,  5,  6,  7,  8,  9, 10, 11, 12, 13, 14])"
      ]
     },
     "execution_count": 7,
     "metadata": {},
     "output_type": "execute_result"
    }
   ],
   "source": [
    "#numpy 7\n",
    "y = np.arange(3,15)\n",
    "y"
   ]
  },
  {
   "cell_type": "code",
   "execution_count": 11,
   "metadata": {},
   "outputs": [
    {
     "name": "stdout",
     "output_type": "stream",
     "text": [
      "g is:  [1 3 5 2 4 5]\n",
      "g1 is: [[1 3]\n",
      " [5 2]\n",
      " [4 5]]\n",
      "g2 is: [[1 3 5]\n",
      " [2 4 5]]\n"
     ]
    }
   ],
   "source": [
    "#numpy 8\n",
    "g = np.array([1, 3, 5, 2, 4, 5])\n",
    "g1 =g.reshape(3,2)\n",
    "g2=g.reshape(2,3)\n",
    "print('g is: ', g)\n",
    "print('g1 is:', g1)\n",
    "print('g2 is:', g2)"
   ]
  },
  {
   "cell_type": "code",
   "execution_count": 13,
   "metadata": {},
   "outputs": [],
   "source": [
    "#numpy 9\n",
    "import numpy as np\n",
    "def num(z):\n",
    "    while np.mean(z) > 5:\n",
    "        z = z/2\n",
    "    else:\n",
    "        print(z)"
   ]
  },
  {
   "cell_type": "code",
   "execution_count": 14,
   "metadata": {},
   "outputs": [
    {
     "name": "stdout",
     "output_type": "stream",
     "text": [
      "[2.5 5.  1.  2. ]\n"
     ]
    }
   ],
   "source": [
    "z = np.array([10,20,4,8])\n",
    "num(z)"
   ]
  },
  {
   "cell_type": "code",
   "execution_count": 1,
   "metadata": {},
   "outputs": [],
   "source": [
    "#numpy 10\n",
    "import numpy as np\n",
    "def rand(x):\n",
    "    for i in range(4):\n",
    "        print(x[:,i])"
   ]
  },
  {
   "cell_type": "code",
   "execution_count": 2,
   "metadata": {},
   "outputs": [
    {
     "name": "stdout",
     "output_type": "stream",
     "text": [
      "[ 7  1  3  4 10]\n",
      "[5 9 5 6 9]\n",
      "[3 7 2 1 1]\n",
      "[ 1  2 10 10  3]\n"
     ]
    }
   ],
   "source": [
    "x = np.random.randint(1,11,(5,4))\n",
    "rand(x)"
   ]
  },
  {
   "cell_type": "code",
   "execution_count": 3,
   "metadata": {},
   "outputs": [],
   "source": [
    "#numpy 10.2\n",
    "import numpy as np\n",
    "def rand(x):\n",
    "    for i in range(5):\n",
    "        print(x[i, :])"
   ]
  },
  {
   "cell_type": "code",
   "execution_count": 4,
   "metadata": {},
   "outputs": [
    {
     "name": "stdout",
     "output_type": "stream",
     "text": [
      "[8 4 8 5]\n",
      "[3 3 2 6]\n",
      "[1 7 8 7]\n",
      "[3 5 2 1]\n",
      "[7 9 4 3]\n"
     ]
    }
   ],
   "source": [
    "x = np.random.randint(1,11,(5,4))\n",
    "rand(x)"
   ]
  },
  {
   "cell_type": "code",
   "execution_count": null,
   "metadata": {},
   "outputs": [],
   "source": []
  }
 ],
 "metadata": {
  "kernelspec": {
   "display_name": "Python 3",
   "language": "python",
   "name": "python3"
  },
  "language_info": {
   "codemirror_mode": {
    "name": "ipython",
    "version": 3
   },
   "file_extension": ".py",
   "mimetype": "text/x-python",
   "name": "python",
   "nbconvert_exporter": "python",
   "pygments_lexer": "ipython3",
   "version": "3.7.4"
  }
 },
 "nbformat": 4,
 "nbformat_minor": 2
}
