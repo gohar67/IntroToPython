{
 "cells": [
  {
   "cell_type": "code",
   "execution_count": 171,
   "metadata": {},
   "outputs": [],
   "source": [
    "#HW1\n",
    "class Person:\n",
    "    def __init__(self, name , last_name , age , gender, student, password):\n",
    "        self.name = name\n",
    "        self.last_name = last_name\n",
    "        self.age = age\n",
    "        self.student = student\n",
    "        self.__password = password\n",
    "    \n",
    "    def Greeting(self, second_person):\n",
    "        #self.second_person = second_person\n",
    "        print('Welcome dear %s!' % self.name)\n",
    "    def Goodbye(self):\n",
    "        print('Bye everyone!')\n",
    "    def Favourite_num(self, num1):\n",
    "        self.num1 = num1\n",
    "        print('My favourite number is', num1)\n",
    "    def Read_file(self, filename):\n",
    "        self.filename = filename\n",
    "        f = open(\"filename.txt\", \"r\")\n",
    "        print(f.read())\n",
    "        \n",
    "    def set_password(self, new_password):\n",
    "        self.__password = new_password\n",
    "    def get_password(self):\n",
    "        return self.__password"
   ]
  },
  {
   "cell_type": "code",
   "execution_count": 172,
   "metadata": {},
   "outputs": [],
   "source": [
    "p = Person('John', 'Smith', 28, 'male', False, 'John28')\n",
    "second_person = Person('Ann', 'Brown', 19, 'F', True, 'Ann19')"
   ]
  },
  {
   "cell_type": "code",
   "execution_count": 173,
   "metadata": {},
   "outputs": [
    {
     "name": "stdout",
     "output_type": "stream",
     "text": [
      "Welcome dear Ann!\n"
     ]
    }
   ],
   "source": [
    "second_person.Greeting(p)"
   ]
  },
  {
   "cell_type": "code",
   "execution_count": 174,
   "metadata": {},
   "outputs": [
    {
     "name": "stdout",
     "output_type": "stream",
     "text": [
      "Bye everyone!\n"
     ]
    }
   ],
   "source": [
    "p.Goodbye()"
   ]
  },
  {
   "cell_type": "code",
   "execution_count": 175,
   "metadata": {},
   "outputs": [
    {
     "name": "stdout",
     "output_type": "stream",
     "text": [
      "My favourite number is 15\n"
     ]
    }
   ],
   "source": [
    "p.Favourite_num(15)"
   ]
  },
  {
   "cell_type": "code",
   "execution_count": 176,
   "metadata": {},
   "outputs": [
    {
     "name": "stdout",
     "output_type": "stream",
     "text": [
      "Now this file has a content!\n"
     ]
    }
   ],
   "source": [
    "p.Read_file('filename.txt')"
   ]
  },
  {
   "cell_type": "code",
   "execution_count": 180,
   "metadata": {},
   "outputs": [],
   "source": [
    "p.set_password('1598John')"
   ]
  },
  {
   "cell_type": "code",
   "execution_count": 178,
   "metadata": {},
   "outputs": [
    {
     "data": {
      "text/plain": [
       "'Ann19'"
      ]
     },
     "execution_count": 178,
     "metadata": {},
     "output_type": "execute_result"
    }
   ],
   "source": [
    "second_person.get_password()"
   ]
  },
  {
   "cell_type": "code",
   "execution_count": null,
   "metadata": {},
   "outputs": [],
   "source": [
    "p."
   ]
  },
  {
   "cell_type": "code",
   "execution_count": 118,
   "metadata": {},
   "outputs": [],
   "source": [
    "#HW2\n",
    "class Calculation:\n",
    "    def __init__(self, x, y):\n",
    "        self.x = x\n",
    "        self.y = y\n",
    "        \n",
    "    def addition(self):\n",
    "        print(self.x + self.y)\n",
    "    \n",
    "    def subtraction(self):\n",
    "        print(self.x - self.y)\n",
    "        \n",
    "class MyCalculation(Calculation):\n",
    "    def __init__(self):\n",
    "        Calculation.__init__(self, 3, 4) \n",
    "    \n",
    "    def multiplication(self):\n",
    "        print(self.x * self.y)\n",
    "        \n",
    "    def division(self):\n",
    "        print(self.x / self.y)\n",
    "    "
   ]
  },
  {
   "cell_type": "code",
   "execution_count": 119,
   "metadata": {},
   "outputs": [],
   "source": [
    "c = Calculation(4,5)\n",
    "mc = MyCalculation()"
   ]
  },
  {
   "cell_type": "code",
   "execution_count": 120,
   "metadata": {},
   "outputs": [
    {
     "name": "stdout",
     "output_type": "stream",
     "text": [
      "9\n",
      "-1\n"
     ]
    }
   ],
   "source": [
    "c.addition()\n",
    "c.subtraction()"
   ]
  },
  {
   "cell_type": "code",
   "execution_count": 121,
   "metadata": {},
   "outputs": [
    {
     "name": "stdout",
     "output_type": "stream",
     "text": [
      "12\n",
      "0.75\n"
     ]
    }
   ],
   "source": [
    "mc.multiplication()\n",
    "mc.division()"
   ]
  },
  {
   "cell_type": "code",
   "execution_count": 122,
   "metadata": {},
   "outputs": [],
   "source": [
    "# HW3\n",
    "class My_Time:\n",
    "    \n",
    "    def __init__(self, t):\n",
    "        self.t = t\n",
    "    def printTime(self):\n",
    "        print('The current time is', self.t)\n",
    "    \n",
    "class My_Date:\n",
    "    def __init__(self, d):\n",
    "        self.d = d\n",
    "    def printDate(self):\n",
    "        print('The current date is', self.d)  \n",
    "    \n",
    "class Date_Time(My_Time, My_Date):\n",
    "    def __init__(self, t, d):\n",
    "        My_Time.__init__(self, t)\n",
    "        My_Date.__init__(self, d)"
   ]
  },
  {
   "cell_type": "code",
   "execution_count": 123,
   "metadata": {},
   "outputs": [],
   "source": [
    "mt=Date_Time('15 PM', '16.03.1993')"
   ]
  },
  {
   "cell_type": "code",
   "execution_count": 124,
   "metadata": {},
   "outputs": [
    {
     "name": "stdout",
     "output_type": "stream",
     "text": [
      "The current date is 16.03.1993\n"
     ]
    }
   ],
   "source": [
    "mt.printDate()"
   ]
  },
  {
   "cell_type": "code",
   "execution_count": 125,
   "metadata": {},
   "outputs": [
    {
     "name": "stdout",
     "output_type": "stream",
     "text": [
      "The current time is 15 PM\n"
     ]
    }
   ],
   "source": [
    "mt.printTime()"
   ]
  },
  {
   "cell_type": "code",
   "execution_count": 159,
   "metadata": {},
   "outputs": [],
   "source": [
    "#HW4\n",
    "class Model:\n",
    "    def __init__(self, name):\n",
    "        self.name = name\n",
    "    def printModel(self):\n",
    "        print('The model of the vehicle is', self.name)\n",
    "        \n",
    "class Color:\n",
    "    def __init__(self, color):\n",
    "        self.color = color\n",
    "    def printColor(self):\n",
    "        print('The color of the vehicle is', self.color)\n",
    "        \n",
    "class Car(Model, Color):\n",
    "    def __init__(self, name, color):\n",
    "        Model.__init__(self, name)\n",
    "        Color.__init__(self, color)"
   ]
  },
  {
   "cell_type": "code",
   "execution_count": 160,
   "metadata": {},
   "outputs": [],
   "source": [
    "car = Car('BMW', 'red')"
   ]
  },
  {
   "cell_type": "code",
   "execution_count": 161,
   "metadata": {},
   "outputs": [
    {
     "name": "stdout",
     "output_type": "stream",
     "text": [
      "The color of the vehicle is red\n"
     ]
    }
   ],
   "source": [
    "car.printColor()"
   ]
  },
  {
   "cell_type": "code",
   "execution_count": 162,
   "metadata": {},
   "outputs": [
    {
     "name": "stdout",
     "output_type": "stream",
     "text": [
      "The model of the vehicle is BMW\n"
     ]
    }
   ],
   "source": [
    "car.printModel()"
   ]
  }
 ],
 "metadata": {
  "kernelspec": {
   "display_name": "Python 3",
   "language": "python",
   "name": "python3"
  },
  "language_info": {
   "codemirror_mode": {
    "name": "ipython",
    "version": 3
   },
   "file_extension": ".py",
   "mimetype": "text/x-python",
   "name": "python",
   "nbconvert_exporter": "python",
   "pygments_lexer": "ipython3",
   "version": "3.7.4"
  }
 },
 "nbformat": 4,
 "nbformat_minor": 2
}
