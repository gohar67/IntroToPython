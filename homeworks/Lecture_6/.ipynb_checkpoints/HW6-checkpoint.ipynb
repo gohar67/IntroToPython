{
 "cells": [
  {
   "cell_type": "code",
   "execution_count": 118,
   "metadata": {},
   "outputs": [],
   "source": [
    "#HW1\n",
    "class Person():\n",
    "    def __init__(self, name , last_name , age , gender, student, password):\n",
    "        self.name = name\n",
    "        self.last_name = last_name\n",
    "        self.age = age\n",
    "        self.student = student\n",
    "        self.__password = password\n",
    "    \n",
    "    def Greeting(self, second_person):\n",
    "        #self.second_person = second_person\n",
    "        print('Welcome dear %s!' % self.name)\n",
    "    def Goodbye(self):\n",
    "        print('Bye everyone!')\n",
    "    def Favourite_num(self, num1):\n",
    "        self.num1 = num1\n",
    "        print('My favourite number is', num1)\n",
    "    def Read_file(self, filename):\n",
    "        self.filename = filename\n",
    "        f = open(\"filename.txt\", \"r\")\n",
    "        print(f.read())"
   ]
  },
  {
   "cell_type": "code",
   "execution_count": 119,
   "metadata": {},
   "outputs": [],
   "source": [
    "p = Person('John', 'Smith', 28, 'male', False, 'John28')\n",
    "second_person = Person('Ann', 'Brown', 19, 'F', True, 'Ann19')"
   ]
  },
  {
   "cell_type": "code",
   "execution_count": 120,
   "metadata": {},
   "outputs": [
    {
     "name": "stdout",
     "output_type": "stream",
     "text": [
      "Welcome dear Ann!\n"
     ]
    }
   ],
   "source": [
    "second_person.Greeting(p)"
   ]
  },
  {
   "cell_type": "code",
   "execution_count": 121,
   "metadata": {},
   "outputs": [
    {
     "name": "stdout",
     "output_type": "stream",
     "text": [
      "Bye everyone!\n"
     ]
    }
   ],
   "source": [
    "p.Goodbye()"
   ]
  },
  {
   "cell_type": "code",
   "execution_count": 122,
   "metadata": {},
   "outputs": [
    {
     "name": "stdout",
     "output_type": "stream",
     "text": [
      "My favourite number is 15\n"
     ]
    }
   ],
   "source": [
    "p.Favourite_num(15)"
   ]
  },
  {
   "cell_type": "code",
   "execution_count": 123,
   "metadata": {},
   "outputs": [
    {
     "name": "stdout",
     "output_type": "stream",
     "text": [
      "Now this file has a content!\n"
     ]
    }
   ],
   "source": [
    "p.Read_file('filename.txt')"
   ]
  },
  {
   "cell_type": "code",
   "execution_count": 32,
   "metadata": {},
   "outputs": [],
   "source": [
    "#HW2\n",
    "class Calculation():\n",
    "    def __init__(self, x, y):\n",
    "        self.x = x\n",
    "        self.y = y\n",
    "        \n",
    "    def addition(self):\n",
    "        print(self.x + self.y)\n",
    "    \n",
    "    def subtraction(self):\n",
    "        print(self.x - self.y)\n",
    "        \n",
    "class MyCalculation(Calculation):\n",
    "    def __init__(self):\n",
    "        Calculation.__init__(self, 3, 4) \n",
    "    \n",
    "    def multiplication(self):\n",
    "        print(self.x * self.y)\n",
    "        \n",
    "    def division(self):\n",
    "        print(self.x / self.y)\n",
    "    "
   ]
  },
  {
   "cell_type": "code",
   "execution_count": 33,
   "metadata": {},
   "outputs": [],
   "source": [
    "c = Calculation(4,5)\n",
    "mc = MyCalculation()"
   ]
  },
  {
   "cell_type": "code",
   "execution_count": 42,
   "metadata": {},
   "outputs": [
    {
     "name": "stdout",
     "output_type": "stream",
     "text": [
      "9\n",
      "-1\n"
     ]
    }
   ],
   "source": [
    "c.addition()\n",
    "c.subtraction()"
   ]
  },
  {
   "cell_type": "code",
   "execution_count": 43,
   "metadata": {},
   "outputs": [
    {
     "name": "stdout",
     "output_type": "stream",
     "text": [
      "12\n",
      "0.75\n"
     ]
    }
   ],
   "source": [
    "mc.multiplication()\n",
    "mc.division()"
   ]
  },
  {
   "cell_type": "code",
   "execution_count": 80,
   "metadata": {},
   "outputs": [],
   "source": [
    "# HW3\n",
    "class My_Time:\n",
    "    \n",
    "    def __init__(self, t):\n",
    "        self.t = t\n",
    "    def printTime(self):\n",
    "        print('The current time is', self.t)\n",
    "    \n",
    "class My_Date:\n",
    "    def __init__(self, d):\n",
    "        self.d = d\n",
    "    def printDate(self):\n",
    "        print('The current date is', self.d)  \n",
    "    \n",
    "class Date_Time(My_Time, My_Date):\n",
    "    def __init__(self, t, d):\n",
    "        My_Time.__init__(self, t)\n",
    "        My_Date.__init__(self, d)"
   ]
  },
  {
   "cell_type": "code",
   "execution_count": 82,
   "metadata": {},
   "outputs": [],
   "source": [
    "mt=Date_Time('15 PM', '16.03.1993')"
   ]
  },
  {
   "cell_type": "code",
   "execution_count": 83,
   "metadata": {},
   "outputs": [
    {
     "name": "stdout",
     "output_type": "stream",
     "text": [
      "The current date is 16.03.1993\n"
     ]
    }
   ],
   "source": [
    "mt.printDate()"
   ]
  },
  {
   "cell_type": "code",
   "execution_count": 84,
   "metadata": {},
   "outputs": [
    {
     "name": "stdout",
     "output_type": "stream",
     "text": [
      "The current time is 15 PM\n"
     ]
    }
   ],
   "source": [
    "mt.printTime()"
   ]
  },
  {
   "cell_type": "code",
   "execution_count": 102,
   "metadata": {},
   "outputs": [],
   "source": [
    "# HW3\n",
    "class My_Time():\n",
    "    import datetime\n",
    "    t = datetime.datetime.now()\n",
    "    \n",
    "    def __init__(self, t):\n",
    "        self.t = t\n",
    "    def printTime(self):\n",
    "        print('The current time is', My_Time.t.time())\n",
    "    \n",
    "class My_Date():\n",
    "    import datetime\n",
    "    d = datetime.date.today()\n",
    "    \n",
    "    def __init__(self, d):\n",
    "        self.d = d\n",
    "    def printDate(self):\n",
    "        print('The current date is', My_Date.d)\n",
    "    \n",
    "class Date_Time():\n",
    "    def __init__(self, t, d):\n",
    "        My_Time.__init__(self, t)\n",
    "        My_Date.__init__(self, d)"
   ]
  },
  {
   "cell_type": "code",
   "execution_count": 103,
   "metadata": {},
   "outputs": [
    {
     "ename": "NameError",
     "evalue": "name 'd' is not defined",
     "output_type": "error",
     "traceback": [
      "\u001b[1;31m---------------------------------------------------------------------------\u001b[0m",
      "\u001b[1;31mNameError\u001b[0m                                 Traceback (most recent call last)",
      "\u001b[1;32m<ipython-input-103-fd0c1d5ab644>\u001b[0m in \u001b[0;36m<module>\u001b[1;34m\u001b[0m\n\u001b[1;32m----> 1\u001b[1;33m \u001b[0mmc\u001b[0m \u001b[1;33m=\u001b[0m \u001b[0mDate_Time\u001b[0m\u001b[1;33m(\u001b[0m\u001b[0mt\u001b[0m\u001b[1;33m,\u001b[0m \u001b[0md\u001b[0m\u001b[1;33m)\u001b[0m\u001b[1;33m\u001b[0m\u001b[1;33m\u001b[0m\u001b[0m\n\u001b[0m",
      "\u001b[1;31mNameError\u001b[0m: name 'd' is not defined"
     ]
    }
   ],
   "source": [
    "mc = Date_Time(t, d)"
   ]
  },
  {
   "cell_type": "code",
   "execution_count": 94,
   "metadata": {},
   "outputs": [
    {
     "data": {
      "text/plain": [
       "'15'"
      ]
     },
     "execution_count": 94,
     "metadata": {},
     "output_type": "execute_result"
    }
   ],
   "source": [
    "mc.d"
   ]
  },
  {
   "cell_type": "code",
   "execution_count": 95,
   "metadata": {},
   "outputs": [
    {
     "data": {
      "text/plain": [
       "datetime.datetime(2020, 4, 21, 18, 59, 15, 48244)"
      ]
     },
     "execution_count": 95,
     "metadata": {},
     "output_type": "execute_result"
    }
   ],
   "source": [
    "mc.t"
   ]
  },
  {
   "cell_type": "code",
   "execution_count": null,
   "metadata": {},
   "outputs": [],
   "source": []
  }
 ],
 "metadata": {
  "kernelspec": {
   "display_name": "Python 3",
   "language": "python",
   "name": "python3"
  },
  "language_info": {
   "codemirror_mode": {
    "name": "ipython",
    "version": 3
   },
   "file_extension": ".py",
   "mimetype": "text/x-python",
   "name": "python",
   "nbconvert_exporter": "python",
   "pygments_lexer": "ipython3",
   "version": "3.7.4"
  }
 },
 "nbformat": 4,
 "nbformat_minor": 2
}
