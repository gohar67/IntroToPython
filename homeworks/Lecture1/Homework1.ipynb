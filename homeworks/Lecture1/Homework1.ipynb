{
 "cells": [
  {
   "cell_type": "code",
   "execution_count": 1,
   "metadata": {},
   "outputs": [
    {
     "name": "stdout",
     "output_type": "stream",
     "text": [
      "False\n",
      "True\n",
      "True\n",
      "False\n"
     ]
    }
   ],
   "source": [
    "#Problem 1 ( Variables )\n",
    "project = \"cake\"\n",
    "difficulty = 5\n",
    "ingredients = [\"flour\", \"butter\", \"sugar\", \"eggs\", \"cocoa powder\", \"baking powder\"]\n",
    "print(\"apple\" in ingredients)\n",
    "print(\"butter\" in ingredients)\n",
    "print((\"eggs\" in ingredients) or (\"margarine\" in ingredients))\n",
    "print((\"eggs\" in ingredients) and (\"margarine\" in ingredients))"
   ]
  },
  {
   "cell_type": "code",
   "execution_count": 2,
   "metadata": {},
   "outputs": [
    {
     "name": "stdout",
     "output_type": "stream",
     "text": [
      "<class 'int'>\n",
      "<class 'int'>\n",
      "<class 'str'>\n",
      "<class 'int'>\n",
      "<class 'str'>\n",
      "<class 'float'>\n",
      "flour - 175\n",
      "butter - 175\n",
      "sugar - 100g\n",
      "eggs - 2\n",
      "cocoa powder -  1ts\n",
      "baking powder - 0.5\n"
     ]
    }
   ],
   "source": [
    "flour = 175\n",
    "butter = 175\n",
    "sugar = \"100g\"\n",
    "eggs = 2\n",
    "cocoa_powder = \"1ts\"\n",
    "baking_powder = 0.5\n",
    "print(type(flour))\n",
    "print(type(butter))\n",
    "print(type(sugar))\n",
    "print(type(eggs))\n",
    "print(type(cocoa_powder))\n",
    "print(type(baking_powder))\n",
    "print(\"flour\" + \" -\", flour)\n",
    "print(\"butter\" + \" -\", butter)\n",
    "print(\"sugar\" + \" - \" + sugar)\n",
    "print(\"eggs\" + \" -\", eggs)\n",
    "print(\"cocoa powder\" + \" - \", cocoa_powder)\n",
    "print(\"baking powder\" + \" -\", baking_powder)"
   ]
  },
  {
   "cell_type": "code",
   "execution_count": 3,
   "metadata": {},
   "outputs": [
    {
     "name": "stdout",
     "output_type": "stream",
     "text": [
      "998.5\n",
      "852\n"
     ]
    }
   ],
   "source": [
    "#problem 3\n",
    "a = 15\n",
    "b = 8\n",
    "c = 2\n",
    "print(5 * a **2 - a * b + (a % 2) - a/2)\n",
    "print(b **3 + 3 * a * b-10 * c)"
   ]
  },
  {
   "cell_type": "code",
   "execution_count": 4,
   "metadata": {},
   "outputs": [
    {
     "name": "stdout",
     "output_type": "stream",
     "text": [
      "enter a number: 7\n",
      "1\n"
     ]
    }
   ],
   "source": [
    "#problem 4\n",
    "user = input(\"enter a number: \")\n",
    "print(int(user) % 2)"
   ]
  },
  {
   "cell_type": "code",
   "execution_count": 6,
   "metadata": {},
   "outputs": [
    {
     "name": "stdout",
     "output_type": "stream",
     "text": [
      "enter a number: 564\n",
      "564 is even\n"
     ]
    }
   ],
   "source": [
    "#problem 4\n",
    "x = input(\"enter a number: \")\n",
    "if int(x) % 2 == 0:\n",
    "    print(x, \"is even\")\n",
    "else:\n",
    "    print(x, \"is odd\")"
   ]
  },
  {
   "cell_type": "code",
   "execution_count": null,
   "metadata": {},
   "outputs": [],
   "source": []
  }
 ],
 "metadata": {
  "kernelspec": {
   "display_name": "Python 3",
   "language": "python",
   "name": "python3"
  },
  "language_info": {
   "codemirror_mode": {
    "name": "ipython",
    "version": 3
   },
   "file_extension": ".py",
   "mimetype": "text/x-python",
   "name": "python",
   "nbconvert_exporter": "python",
   "pygments_lexer": "ipython3",
   "version": "3.7.4"
  }
 },
 "nbformat": 4,
 "nbformat_minor": 2
}
